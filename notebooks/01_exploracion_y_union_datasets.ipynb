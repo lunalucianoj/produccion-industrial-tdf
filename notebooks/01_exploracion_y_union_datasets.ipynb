{
 "cells": [
  {
   "cell_type": "markdown",
   "id": "9887339d",
   "metadata": {},
   "source": [
    "## 1. Carga de librerías y configuración inicial\n",
    "\n",
    "En este notebook voy a explorar, limpiar y unificar los datasets industriales de la provincia de Tierra del Fuego.  \n",
    "El objetivo es dejar todo preparado para construir un modelo de regresión supervisada que me permita predecir la producción mensual por sector, a partir de la cantidad de empleados, establecimientos y variables temporales como el mes y el año."
   ]
  },
  {
   "cell_type": "code",
   "execution_count": 1,
   "id": "50553a1b",
   "metadata": {},
   "outputs": [],
   "source": [
    "# Importo las librerías que voy a usar para el análisis y procesamiento de datos\n",
    "import pandas as pd\n",
    "import numpy as np\n",
    "\n",
    "# Defino la ruta base donde tengo los archivos crudos\n",
    "ruta_base = '../data/raw/'\n"
   ]
  },
  {
   "cell_type": "markdown",
   "id": "cb9a8c21",
   "metadata": {},
   "source": [
    "## 2. Dataset de Producción por Sector Industrial\n",
    "\n",
    "En esta sección cargo y trabajo con el dataset de producción mensual, desagregado por sector.  \n",
    "Voy a realizar una exploración inicial para entender su estructura, luego una limpieza de columnas y valores, y por último la normalización.\n"
   ]
  },
  {
   "cell_type": "markdown",
   "id": "9319568f",
   "metadata": {},
   "source": [
    "### 2.1 Exploración inicial del dataset de Producción\n",
    "\n",
    "El archivo Excel de producción contiene varias hojas, una por sector industrial.  \n",
    "Cada hoja tiene una estructura ligeramente distinta, así que primero defino cuántas filas debo saltear para acceder correctamente a los datos.  \n",
    "Luego recorro las hojas, selecciono las columnas relevantes, las normalizo y las guardo en una lista para combinarlas al final.\n",
    "\n"
   ]
  },
  {
   "cell_type": "code",
   "execution_count": 2,
   "id": "d0389505",
   "metadata": {},
   "outputs": [],
   "source": [
    "# Defino la ruta del archivo Excel\n",
    "archivo = ruta_base + '14_3_03_Produccion_Industrial-1-1.xlsx'\n",
    "\n",
    "# Diccionario con nombre de hoja y cantidad de filas a saltear (skiprows)\n",
    "hojas_y_skips = {\n",
    "    'CONFECCIONISTA': 5,\n",
    "    'ELECTRONICA': 5,\n",
    "    'PESQUERA': 5,\n",
    "    'TEXTIL': 5,\n",
    "    'PLASTICA': 5,\n",
    "    'OTROS': 4\n",
    "}"
   ]
  },
  {
   "cell_type": "markdown",
   "id": "3b35b62e",
   "metadata": {},
   "source": [
    "### 2.2 Preparación inicial: renombrado, tipos y unificación\n",
    "\n",
    "Una vez cargados los datos de cada hoja, realizo una serie de transformaciones básicas:  \n",
    "renombro las columnas, creo una columna nueva con el nombre del sector, convierto los tipos de datos  \n",
    "y finalmente uno todos los DataFrames en una sola tabla general llamada `df_produccion_total`.  \n",
    "Reordeno las columnas para dejar el formato estandarizado.\n"
   ]
  },
  {
   "cell_type": "code",
   "execution_count": 3,
   "id": "2c83bca7",
   "metadata": {},
   "outputs": [
    {
     "name": "stdout",
     "output_type": "stream",
     "text": [
      "\n",
      "Leyendo hoja: CONFECCIONISTA (skiprows=5)\n"
     ]
    },
    {
     "name": "stderr",
     "output_type": "stream",
     "text": [
      "C:\\Users\\Luciano\\AppData\\Local\\Temp\\ipykernel_2704\\3278948592.py:19: FutureWarning: Series.fillna with 'method' is deprecated and will raise in a future version. Use obj.ffill() or obj.bfill() instead.\n",
      "  df_temp['anio'] = df_temp['anio'].fillna(method='ffill')\n"
     ]
    },
    {
     "name": "stdout",
     "output_type": "stream",
     "text": [
      "\n",
      "Leyendo hoja: ELECTRONICA (skiprows=5)\n"
     ]
    },
    {
     "name": "stderr",
     "output_type": "stream",
     "text": [
      "C:\\Users\\Luciano\\AppData\\Local\\Temp\\ipykernel_2704\\3278948592.py:19: FutureWarning: Series.fillna with 'method' is deprecated and will raise in a future version. Use obj.ffill() or obj.bfill() instead.\n",
      "  df_temp['anio'] = df_temp['anio'].fillna(method='ffill')\n",
      "C:\\Users\\Luciano\\AppData\\Local\\Temp\\ipykernel_2704\\3278948592.py:19: FutureWarning: Series.fillna with 'method' is deprecated and will raise in a future version. Use obj.ffill() or obj.bfill() instead.\n",
      "  df_temp['anio'] = df_temp['anio'].fillna(method='ffill')\n"
     ]
    },
    {
     "name": "stdout",
     "output_type": "stream",
     "text": [
      "\n",
      "Leyendo hoja: PESQUERA (skiprows=5)\n",
      "\n",
      "Leyendo hoja: TEXTIL (skiprows=5)\n"
     ]
    },
    {
     "name": "stderr",
     "output_type": "stream",
     "text": [
      "C:\\Users\\Luciano\\AppData\\Local\\Temp\\ipykernel_2704\\3278948592.py:19: FutureWarning: Series.fillna with 'method' is deprecated and will raise in a future version. Use obj.ffill() or obj.bfill() instead.\n",
      "  df_temp['anio'] = df_temp['anio'].fillna(method='ffill')\n"
     ]
    },
    {
     "name": "stdout",
     "output_type": "stream",
     "text": [
      "\n",
      "Leyendo hoja: PLASTICA (skiprows=5)\n",
      "\n",
      "Leyendo hoja: OTROS (skiprows=4)\n"
     ]
    },
    {
     "name": "stderr",
     "output_type": "stream",
     "text": [
      "C:\\Users\\Luciano\\AppData\\Local\\Temp\\ipykernel_2704\\3278948592.py:19: FutureWarning: Series.fillna with 'method' is deprecated and will raise in a future version. Use obj.ffill() or obj.bfill() instead.\n",
      "  df_temp['anio'] = df_temp['anio'].fillna(method='ffill')\n",
      "C:\\Users\\Luciano\\AppData\\Local\\Temp\\ipykernel_2704\\3278948592.py:19: FutureWarning: Series.fillna with 'method' is deprecated and will raise in a future version. Use obj.ffill() or obj.bfill() instead.\n",
      "  df_temp['anio'] = df_temp['anio'].fillna(method='ffill')\n"
     ]
    }
   ],
   "source": [
    "# Lista donde voy a guardar los DataFrames de cada hoja\n",
    "lista_df = []\n",
    "\n",
    "for hoja, skip in hojas_y_skips.items():\n",
    "    print(f\"\\nLeyendo hoja: {hoja} (skiprows={skip})\")\n",
    "    df_temp = pd.read_excel(archivo, sheet_name=hoja, skiprows=skip)\n",
    "\n",
    "    try:\n",
    "        # Las hojas tienen la columna de Producción en distinta ubicación\n",
    "        if hoja == 'OTROS':\n",
    "            df_temp = df_temp.iloc[:, [0, 1, 4]]  # Año, Mes, Producción (en columna E)\n",
    "        else:\n",
    "            df_temp = df_temp.iloc[:, [0, 1, 2]]  # Año, Mes, Producción (columna C)\n",
    "        \n",
    "        # Renombro columnas\n",
    "        df_temp.columns = ['anio', 'mes', 'Produccion']\n",
    "        \n",
    "        # Relleno valores faltantes en el año\n",
    "        df_temp['anio'] = df_temp['anio'].fillna(method='ffill')\n",
    "        \n",
    "        \n",
    "        # Elimino filas que no tienen datos relevantes\n",
    "        df_temp = df_temp.dropna(subset=['anio', 'mes', 'Produccion'])\n",
    "        \n",
    "        # Convierto tipos\n",
    "        df_temp['anio'] = df_temp['anio'].astype(int)\n",
    "        df_temp['mes'] = df_temp['mes'].astype(str)\n",
    "        \n",
    "        # Agrego la columna de sector con el nombre de la hoja (capitalizado)\n",
    "        df_temp['sector'] = hoja.capitalize()\n",
    "        \n",
    "        # Agrego el DataFrame a la lista\n",
    "        lista_df.append(df_temp)\n",
    "        \n",
    "    except Exception as e:\n",
    "        print(f\"Error en hoja {hoja}: {e}\")"
   ]
  },
  {
   "cell_type": "markdown",
   "id": "f3d1aff0",
   "metadata": {},
   "source": [
    "Una vez procesadas todas las hojas, uno los DataFrames en uno solo, reorganizo las columnas y muestro una vista previa.\n"
   ]
  },
  {
   "cell_type": "code",
   "execution_count": 4,
   "id": "9b9ed407",
   "metadata": {},
   "outputs": [
    {
     "name": "stdout",
     "output_type": "stream",
     "text": [
      "✅ Producción final normalizada y completa:\n"
     ]
    },
    {
     "data": {
      "text/html": [
       "<div>\n",
       "<style scoped>\n",
       "    .dataframe tbody tr th:only-of-type {\n",
       "        vertical-align: middle;\n",
       "    }\n",
       "\n",
       "    .dataframe tbody tr th {\n",
       "        vertical-align: top;\n",
       "    }\n",
       "\n",
       "    .dataframe thead th {\n",
       "        text-align: right;\n",
       "    }\n",
       "</style>\n",
       "<table border=\"1\" class=\"dataframe\">\n",
       "  <thead>\n",
       "    <tr style=\"text-align: right;\">\n",
       "      <th></th>\n",
       "      <th>anio</th>\n",
       "      <th>mes</th>\n",
       "      <th>sector</th>\n",
       "      <th>Produccion</th>\n",
       "    </tr>\n",
       "  </thead>\n",
       "  <tbody>\n",
       "    <tr>\n",
       "      <th>0</th>\n",
       "      <td>2013</td>\n",
       "      <td>Ene</td>\n",
       "      <td>Confeccionista</td>\n",
       "      <td>219953.0</td>\n",
       "    </tr>\n",
       "    <tr>\n",
       "      <th>1</th>\n",
       "      <td>2013</td>\n",
       "      <td>Feb</td>\n",
       "      <td>Confeccionista</td>\n",
       "      <td>478428.0</td>\n",
       "    </tr>\n",
       "    <tr>\n",
       "      <th>2</th>\n",
       "      <td>2013</td>\n",
       "      <td>Mar</td>\n",
       "      <td>Confeccionista</td>\n",
       "      <td>455248.0</td>\n",
       "    </tr>\n",
       "    <tr>\n",
       "      <th>3</th>\n",
       "      <td>2013</td>\n",
       "      <td>Apr</td>\n",
       "      <td>Confeccionista</td>\n",
       "      <td>569380.0</td>\n",
       "    </tr>\n",
       "    <tr>\n",
       "      <th>4</th>\n",
       "      <td>2013</td>\n",
       "      <td>May</td>\n",
       "      <td>Confeccionista</td>\n",
       "      <td>610624.0</td>\n",
       "    </tr>\n",
       "    <tr>\n",
       "      <th>5</th>\n",
       "      <td>2013</td>\n",
       "      <td>Jun</td>\n",
       "      <td>Confeccionista</td>\n",
       "      <td>517452.0</td>\n",
       "    </tr>\n",
       "    <tr>\n",
       "      <th>6</th>\n",
       "      <td>2013</td>\n",
       "      <td>Jul</td>\n",
       "      <td>Confeccionista</td>\n",
       "      <td>559855.0</td>\n",
       "    </tr>\n",
       "    <tr>\n",
       "      <th>7</th>\n",
       "      <td>2013</td>\n",
       "      <td>Ago</td>\n",
       "      <td>Confeccionista</td>\n",
       "      <td>579140.0</td>\n",
       "    </tr>\n",
       "    <tr>\n",
       "      <th>8</th>\n",
       "      <td>2013</td>\n",
       "      <td>Sep</td>\n",
       "      <td>Confeccionista</td>\n",
       "      <td>481588.0</td>\n",
       "    </tr>\n",
       "    <tr>\n",
       "      <th>9</th>\n",
       "      <td>2013</td>\n",
       "      <td>Oct</td>\n",
       "      <td>Confeccionista</td>\n",
       "      <td>517940.0</td>\n",
       "    </tr>\n",
       "    <tr>\n",
       "      <th>10</th>\n",
       "      <td>2013</td>\n",
       "      <td>Nov</td>\n",
       "      <td>Confeccionista</td>\n",
       "      <td>471284.0</td>\n",
       "    </tr>\n",
       "    <tr>\n",
       "      <th>11</th>\n",
       "      <td>2013</td>\n",
       "      <td>Dic</td>\n",
       "      <td>Confeccionista</td>\n",
       "      <td>319524.0</td>\n",
       "    </tr>\n",
       "    <tr>\n",
       "      <th>12</th>\n",
       "      <td>2014</td>\n",
       "      <td>Ene</td>\n",
       "      <td>Confeccionista</td>\n",
       "      <td>243751.0</td>\n",
       "    </tr>\n",
       "    <tr>\n",
       "      <th>13</th>\n",
       "      <td>2014</td>\n",
       "      <td>Feb</td>\n",
       "      <td>Confeccionista</td>\n",
       "      <td>386730.0</td>\n",
       "    </tr>\n",
       "    <tr>\n",
       "      <th>14</th>\n",
       "      <td>2014</td>\n",
       "      <td>Mar</td>\n",
       "      <td>Confeccionista</td>\n",
       "      <td>413565.0</td>\n",
       "    </tr>\n",
       "  </tbody>\n",
       "</table>\n",
       "</div>"
      ],
      "text/plain": [
       "    anio  mes          sector Produccion\n",
       "0   2013  Ene  Confeccionista   219953.0\n",
       "1   2013  Feb  Confeccionista   478428.0\n",
       "2   2013  Mar  Confeccionista   455248.0\n",
       "3   2013  Apr  Confeccionista   569380.0\n",
       "4   2013  May  Confeccionista   610624.0\n",
       "5   2013  Jun  Confeccionista   517452.0\n",
       "6   2013  Jul  Confeccionista   559855.0\n",
       "7   2013  Ago  Confeccionista   579140.0\n",
       "8   2013  Sep  Confeccionista   481588.0\n",
       "9   2013  Oct  Confeccionista   517940.0\n",
       "10  2013  Nov  Confeccionista   471284.0\n",
       "11  2013  Dic  Confeccionista   319524.0\n",
       "12  2014  Ene  Confeccionista   243751.0\n",
       "13  2014  Feb  Confeccionista   386730.0\n",
       "14  2014  Mar  Confeccionista   413565.0"
      ]
     },
     "metadata": {},
     "output_type": "display_data"
    }
   ],
   "source": [
    "# Uno todos los sectores en un único DataFrame\n",
    "df_produccion_total = pd.concat(lista_df, ignore_index=True)\n",
    "\n",
    "# Reordeno columnas\n",
    "df_produccion_total = df_produccion_total[['anio', 'mes', 'sector', 'Produccion']]\n",
    "\n",
    "# Vista previa del resultado final\n",
    "print(\"✅ Producción final normalizada y completa:\")\n",
    "display(df_produccion_total.head(15))"
   ]
  },
  {
   "cell_type": "markdown",
   "id": "cb7dea98",
   "metadata": {},
   "source": [
    "### 2.3 Diagnóstico del dataset unificado de Producción\n",
    "\n",
    "Antes de aplicar cualquier transformación adicional, realizo un diagnóstico del DataFrame `df_produccion_total`  \n",
    "para verificar tipos de datos, presencia de valores nulos, duplicados y distribución de los valores.  \n",
    "Esto me permite asegurar que todo esté en orden antes de proceder con la limpieza final.\n"
   ]
  },
  {
   "cell_type": "code",
   "execution_count": 5,
   "id": "8c73b82e",
   "metadata": {},
   "outputs": [
    {
     "name": "stdout",
     "output_type": "stream",
     "text": [
      "<class 'pandas.core.frame.DataFrame'>\n",
      "RangeIndex: 881 entries, 0 to 880\n",
      "Data columns (total 4 columns):\n",
      " #   Column      Non-Null Count  Dtype \n",
      "---  ------      --------------  ----- \n",
      " 0   anio        881 non-null    int32 \n",
      " 1   mes         881 non-null    object\n",
      " 2   sector      881 non-null    object\n",
      " 3   Produccion  881 non-null    object\n",
      "dtypes: int32(1), object(3)\n",
      "memory usage: 24.2+ KB\n"
     ]
    }
   ],
   "source": [
    "# Tipo de dato y cantidad de valores no nulos\n",
    "df_produccion_total.info()"
   ]
  },
  {
   "cell_type": "code",
   "execution_count": 6,
   "id": "20c8f79f",
   "metadata": {},
   "outputs": [
    {
     "data": {
      "text/plain": [
       "anio          0\n",
       "mes           0\n",
       "sector        0\n",
       "Produccion    0\n",
       "dtype: int64"
      ]
     },
     "execution_count": 6,
     "metadata": {},
     "output_type": "execute_result"
    }
   ],
   "source": [
    "# Cantidad de valores nulos por columna\n",
    "df_produccion_total.isnull().sum()"
   ]
  },
  {
   "cell_type": "code",
   "execution_count": 7,
   "id": "6d397ee6",
   "metadata": {},
   "outputs": [
    {
     "data": {
      "text/plain": [
       "0"
      ]
     },
     "execution_count": 7,
     "metadata": {},
     "output_type": "execute_result"
    }
   ],
   "source": [
    "# Cantidad de filas duplicadas\n",
    "df_produccion_total.duplicated().sum()"
   ]
  },
  {
   "cell_type": "code",
   "execution_count": 8,
   "id": "6bf0dc77",
   "metadata": {},
   "outputs": [
    {
     "name": "stdout",
     "output_type": "stream",
     "text": [
      "Sectores disponibles:\n",
      "sector\n",
      "Confeccionista    147\n",
      "Electronica       147\n",
      "Pesquera          147\n",
      "Textil            147\n",
      "Otros             147\n",
      "Plastica          146\n",
      "Name: count, dtype: int64\n"
     ]
    }
   ],
   "source": [
    "# Verifico la cantidad de sectores distintos y sus nombres\n",
    "print(\"Sectores disponibles:\")\n",
    "print(df_produccion_total['sector'].value_counts())"
   ]
  },
  {
   "cell_type": "code",
   "execution_count": 9,
   "id": "a75d9ac3",
   "metadata": {},
   "outputs": [
    {
     "name": "stdout",
     "output_type": "stream",
     "text": [
      "Distribución de registros por mes:\n",
      "mes\n",
      "Sep     60\n",
      "Oct     60\n",
      "Nov     60\n",
      "Dic     60\n",
      "May     55\n",
      "Ene     54\n",
      "Mar     54\n",
      "Apr     54\n",
      "Jun     54\n",
      "Jul     54\n",
      "Ago     54\n",
      "Feb     54\n",
      "Jun     12\n",
      "Feb*    12\n",
      "Ene*    12\n",
      "Ago     12\n",
      "Jul     12\n",
      "May     12\n",
      "Feb     12\n",
      "Mar     12\n",
      "Apr     12\n",
      "Ene     12\n",
      "Mar*    11\n",
      "Dic      6\n",
      "Nov      6\n",
      "Oct      6\n",
      "Sep      6\n",
      "Abr*     6\n",
      "Jun*     6\n",
      "Jul*     6\n",
      "Ago*     6\n",
      "Sep*     6\n",
      "Oct*     6\n",
      "Nov*     6\n",
      "Dic*     6\n",
      "May*     5\n",
      "Name: count, dtype: int64\n"
     ]
    }
   ],
   "source": [
    "# Verifico los valores únicos de mes y su frecuencia\n",
    "print(\"Distribución de registros por mes:\")\n",
    "print(df_produccion_total['mes'].value_counts())\n"
   ]
  },
  {
   "cell_type": "markdown",
   "id": "e2e76243",
   "metadata": {},
   "source": [
    "### 2.4 Limpieza final\n",
    "\n",
    "Antes de finalizar esta etapa, realicé dos ajustes clave sobre el dataset `df_produccion_total`:\n",
    "\n",
    "- Corregí los valores de la columna `mes`, ya que algunos contenían símbolos extraños como `\"Ene*\"` o `\"May*\"`. Ahora todos los meses están normalizados en formato texto (`'Ene'`, `'Feb'`, etc.).\n",
    "- Traté los valores no válidos de la columna `Produccion`, como `'-'`, transformándolos en `NaN`. En lugar de eliminar esos registros, decidí conservarlos completando el valor faltante con el anterior dentro del mismo sector (`ffill`), ya que esos registros son valiosos para el análisis.\n",
    "\n",
    "Una vez que todos los valores de producción estuvieron completos, los redondeé y los convertí a tipo entero, para asegurar consistencia en el análisis posterior.\n"
   ]
  },
  {
   "cell_type": "code",
   "execution_count": 10,
   "id": "332212f1",
   "metadata": {},
   "outputs": [],
   "source": [
    "# Diccionario base para normalizar abreviaciones o errores\n",
    "meses_validos = {\n",
    "    'ene': 'enero', 'feb': 'febrero', 'mar': 'marzo',\n",
    "    'abr': 'abril', 'may': 'mayo', 'jun': 'junio',\n",
    "    'jul': 'julio', 'ago': 'agosto', 'sep': 'septiembre',\n",
    "    'oct': 'octubre', 'nov': 'noviembre', 'dic': 'diciembre', 'apr':'abril'\n",
    "}\n",
    "\n",
    "# Limpieza unificada\n",
    "df_produccion_total['mes'] = (\n",
    "    df_produccion_total['mes']\n",
    "    .astype(str)\n",
    "    .str.lower()\n",
    "    .str.strip()\n",
    "    .str.replace(r'\\*', '', regex=True)\n",
    "    .str.replace(r'\\s+', '', regex=True)\n",
    "    .map(lambda x: next((v for k, v in meses_validos.items() if x.startswith(k)), x))\n",
    ")\n"
   ]
  },
  {
   "cell_type": "code",
   "execution_count": 11,
   "id": "1d35e0c7",
   "metadata": {},
   "outputs": [
    {
     "name": "stdout",
     "output_type": "stream",
     "text": [
      "['abril', 'agosto', 'diciembre', 'enero', 'febrero', 'julio', 'junio', 'marzo', 'mayo', 'noviembre', 'octubre', 'septiembre']\n"
     ]
    }
   ],
   "source": [
    "# Verificar los valores únicos de la columna 'mes' en producción\n",
    "print(sorted(df_produccion_total['mes'].unique()))"
   ]
  },
  {
   "cell_type": "code",
   "execution_count": 12,
   "id": "23c32c11",
   "metadata": {},
   "outputs": [
    {
     "name": "stderr",
     "output_type": "stream",
     "text": [
      "C:\\Users\\Luciano\\AppData\\Local\\Temp\\ipykernel_2704\\1023895956.py:8: FutureWarning: SeriesGroupBy.fillna is deprecated and will be removed in a future version. Use obj.ffill() or obj.bfill() for forward or backward filling instead. If you want to fill with a single value, use Series.fillna instead\n",
      "  df_produccion_total['Produccion'] = df_produccion_total.groupby('sector')['Produccion'].fillna(method='ffill')\n",
      "C:\\Users\\Luciano\\AppData\\Local\\Temp\\ipykernel_2704\\1023895956.py:8: FutureWarning: Series.fillna with 'method' is deprecated and will raise in a future version. Use obj.ffill() or obj.bfill() instead.\n",
      "  df_produccion_total['Produccion'] = df_produccion_total.groupby('sector')['Produccion'].fillna(method='ffill')\n"
     ]
    }
   ],
   "source": [
    "# Convierto valores no numéricos a NaN\n",
    "df_produccion_total['Produccion'] = pd.to_numeric(df_produccion_total['Produccion'], errors='coerce')\n",
    "\n",
    "# Ordeno para que el fillna sea correcto por sector y fecha\n",
    "df_produccion_total = df_produccion_total.sort_values(by=['sector', 'anio', 'mes'])\n",
    "\n",
    "# Completo valores nulos con el anterior disponible dentro del mismo sector\n",
    "df_produccion_total['Produccion'] = df_produccion_total.groupby('sector')['Produccion'].fillna(method='ffill')\n",
    "\n",
    "# Redondeo y convierto a entero\n",
    "df_produccion_total['Produccion'] = df_produccion_total['Produccion'].round().astype(int)\n"
   ]
  },
  {
   "cell_type": "code",
   "execution_count": 13,
   "id": "9dbd8c5b",
   "metadata": {},
   "outputs": [
    {
     "name": "stdout",
     "output_type": "stream",
     "text": [
      "<class 'pandas.core.frame.DataFrame'>\n",
      "Index: 881 entries, 3 to 587\n",
      "Data columns (total 4 columns):\n",
      " #   Column      Non-Null Count  Dtype \n",
      "---  ------      --------------  ----- \n",
      " 0   anio        881 non-null    int32 \n",
      " 1   mes         881 non-null    object\n",
      " 2   sector      881 non-null    object\n",
      " 3   Produccion  881 non-null    int32 \n",
      "dtypes: int32(2), object(2)\n",
      "memory usage: 27.5+ KB\n"
     ]
    }
   ],
   "source": [
    "# Verifico el tipo de dato y la cantidadd de nulos\n",
    "df_produccion_total.info()"
   ]
  },
  {
   "cell_type": "markdown",
   "id": "984ececc",
   "metadata": {},
   "source": [
    "Ordeno el DataFrame cronológicamente usando la columna 'mes' como categoría ordenada temporalmente.\n",
    "\n",
    "Esto asegura que los meses se ordenen en su secuencia real (enero → diciembre) y no alfabéticamente.\n",
    "\n",
    "Luego, vuelvo a convertir la columna 'mes' a tipo texto (object) para mantener la consistencia con el resto del análisis."
   ]
  },
  {
   "cell_type": "code",
   "execution_count": 14,
   "id": "60af70d3",
   "metadata": {},
   "outputs": [],
   "source": [
    "# Defino el orden cronológico de los meses\n",
    "orden_meses = [\n",
    "    'enero', 'febrero', 'marzo', 'abril', 'mayo', 'junio',\n",
    "    'julio', 'agosto', 'septiembre', 'octubre', 'noviembre', 'diciembre'\n",
    "]\n",
    "\n",
    "# Convierto temporalmente a categoría ordenada para ordenar correctamente\n",
    "df_produccion_total['mes'] = pd.Categorical(df_produccion_total['mes'], categories=orden_meses, ordered=True)\n",
    "\n",
    "# Ordeno cronológicamente por sector, año y mes\n",
    "df_produccion_total = df_produccion_total.sort_values(by=['sector', 'anio', 'mes']).reset_index(drop=True)\n",
    "\n",
    "# Vuelvo a convertir la columna 'mes' a tipo object (texto plano)\n",
    "df_produccion_total['mes'] = df_produccion_total['mes'].astype(str)\n"
   ]
  },
  {
   "cell_type": "code",
   "execution_count": 15,
   "id": "63648725",
   "metadata": {},
   "outputs": [
    {
     "name": "stdout",
     "output_type": "stream",
     "text": [
      "<class 'pandas.core.frame.DataFrame'>\n",
      "RangeIndex: 881 entries, 0 to 880\n",
      "Data columns (total 4 columns):\n",
      " #   Column      Non-Null Count  Dtype \n",
      "---  ------      --------------  ----- \n",
      " 0   anio        881 non-null    int32 \n",
      " 1   mes         881 non-null    object\n",
      " 2   sector      881 non-null    object\n",
      " 3   Produccion  881 non-null    int32 \n",
      "dtypes: int32(2), object(2)\n",
      "memory usage: 20.8+ KB\n"
     ]
    }
   ],
   "source": [
    "# Verifico el tipo de dato y la cantidadd de nulos\n",
    "df_produccion_total.info()"
   ]
  },
  {
   "cell_type": "code",
   "execution_count": 16,
   "id": "d5a93ffd",
   "metadata": {},
   "outputs": [
    {
     "name": "stdout",
     "output_type": "stream",
     "text": [
      "\n",
      "Primeras filas del sector: Confeccionista\n"
     ]
    },
    {
     "data": {
      "text/html": [
       "<div>\n",
       "<style scoped>\n",
       "    .dataframe tbody tr th:only-of-type {\n",
       "        vertical-align: middle;\n",
       "    }\n",
       "\n",
       "    .dataframe tbody tr th {\n",
       "        vertical-align: top;\n",
       "    }\n",
       "\n",
       "    .dataframe thead th {\n",
       "        text-align: right;\n",
       "    }\n",
       "</style>\n",
       "<table border=\"1\" class=\"dataframe\">\n",
       "  <thead>\n",
       "    <tr style=\"text-align: right;\">\n",
       "      <th></th>\n",
       "      <th>anio</th>\n",
       "      <th>mes</th>\n",
       "      <th>sector</th>\n",
       "      <th>Produccion</th>\n",
       "    </tr>\n",
       "  </thead>\n",
       "  <tbody>\n",
       "    <tr>\n",
       "      <th>0</th>\n",
       "      <td>2013</td>\n",
       "      <td>enero</td>\n",
       "      <td>Confeccionista</td>\n",
       "      <td>219953</td>\n",
       "    </tr>\n",
       "    <tr>\n",
       "      <th>1</th>\n",
       "      <td>2013</td>\n",
       "      <td>febrero</td>\n",
       "      <td>Confeccionista</td>\n",
       "      <td>478428</td>\n",
       "    </tr>\n",
       "    <tr>\n",
       "      <th>2</th>\n",
       "      <td>2013</td>\n",
       "      <td>marzo</td>\n",
       "      <td>Confeccionista</td>\n",
       "      <td>455248</td>\n",
       "    </tr>\n",
       "    <tr>\n",
       "      <th>3</th>\n",
       "      <td>2013</td>\n",
       "      <td>abril</td>\n",
       "      <td>Confeccionista</td>\n",
       "      <td>569380</td>\n",
       "    </tr>\n",
       "    <tr>\n",
       "      <th>4</th>\n",
       "      <td>2013</td>\n",
       "      <td>mayo</td>\n",
       "      <td>Confeccionista</td>\n",
       "      <td>610624</td>\n",
       "    </tr>\n",
       "  </tbody>\n",
       "</table>\n",
       "</div>"
      ],
      "text/plain": [
       "   anio      mes          sector  Produccion\n",
       "0  2013    enero  Confeccionista      219953\n",
       "1  2013  febrero  Confeccionista      478428\n",
       "2  2013    marzo  Confeccionista      455248\n",
       "3  2013    abril  Confeccionista      569380\n",
       "4  2013     mayo  Confeccionista      610624"
      ]
     },
     "metadata": {},
     "output_type": "display_data"
    },
    {
     "name": "stdout",
     "output_type": "stream",
     "text": [
      "\n",
      "Primeras filas del sector: Electronica\n"
     ]
    },
    {
     "data": {
      "text/html": [
       "<div>\n",
       "<style scoped>\n",
       "    .dataframe tbody tr th:only-of-type {\n",
       "        vertical-align: middle;\n",
       "    }\n",
       "\n",
       "    .dataframe tbody tr th {\n",
       "        vertical-align: top;\n",
       "    }\n",
       "\n",
       "    .dataframe thead th {\n",
       "        text-align: right;\n",
       "    }\n",
       "</style>\n",
       "<table border=\"1\" class=\"dataframe\">\n",
       "  <thead>\n",
       "    <tr style=\"text-align: right;\">\n",
       "      <th></th>\n",
       "      <th>anio</th>\n",
       "      <th>mes</th>\n",
       "      <th>sector</th>\n",
       "      <th>Produccion</th>\n",
       "    </tr>\n",
       "  </thead>\n",
       "  <tbody>\n",
       "    <tr>\n",
       "      <th>147</th>\n",
       "      <td>2013</td>\n",
       "      <td>enero</td>\n",
       "      <td>Electronica</td>\n",
       "      <td>1260521</td>\n",
       "    </tr>\n",
       "    <tr>\n",
       "      <th>148</th>\n",
       "      <td>2013</td>\n",
       "      <td>febrero</td>\n",
       "      <td>Electronica</td>\n",
       "      <td>1559546</td>\n",
       "    </tr>\n",
       "    <tr>\n",
       "      <th>149</th>\n",
       "      <td>2013</td>\n",
       "      <td>marzo</td>\n",
       "      <td>Electronica</td>\n",
       "      <td>1935759</td>\n",
       "    </tr>\n",
       "    <tr>\n",
       "      <th>150</th>\n",
       "      <td>2013</td>\n",
       "      <td>abril</td>\n",
       "      <td>Electronica</td>\n",
       "      <td>2072806</td>\n",
       "    </tr>\n",
       "    <tr>\n",
       "      <th>151</th>\n",
       "      <td>2013</td>\n",
       "      <td>mayo</td>\n",
       "      <td>Electronica</td>\n",
       "      <td>2538083</td>\n",
       "    </tr>\n",
       "  </tbody>\n",
       "</table>\n",
       "</div>"
      ],
      "text/plain": [
       "     anio      mes       sector  Produccion\n",
       "147  2013    enero  Electronica     1260521\n",
       "148  2013  febrero  Electronica     1559546\n",
       "149  2013    marzo  Electronica     1935759\n",
       "150  2013    abril  Electronica     2072806\n",
       "151  2013     mayo  Electronica     2538083"
      ]
     },
     "metadata": {},
     "output_type": "display_data"
    },
    {
     "name": "stdout",
     "output_type": "stream",
     "text": [
      "\n",
      "Primeras filas del sector: Otros\n"
     ]
    },
    {
     "data": {
      "text/html": [
       "<div>\n",
       "<style scoped>\n",
       "    .dataframe tbody tr th:only-of-type {\n",
       "        vertical-align: middle;\n",
       "    }\n",
       "\n",
       "    .dataframe tbody tr th {\n",
       "        vertical-align: top;\n",
       "    }\n",
       "\n",
       "    .dataframe thead th {\n",
       "        text-align: right;\n",
       "    }\n",
       "</style>\n",
       "<table border=\"1\" class=\"dataframe\">\n",
       "  <thead>\n",
       "    <tr style=\"text-align: right;\">\n",
       "      <th></th>\n",
       "      <th>anio</th>\n",
       "      <th>mes</th>\n",
       "      <th>sector</th>\n",
       "      <th>Produccion</th>\n",
       "    </tr>\n",
       "  </thead>\n",
       "  <tbody>\n",
       "    <tr>\n",
       "      <th>294</th>\n",
       "      <td>2013</td>\n",
       "      <td>enero</td>\n",
       "      <td>Otros</td>\n",
       "      <td>2347676</td>\n",
       "    </tr>\n",
       "    <tr>\n",
       "      <th>295</th>\n",
       "      <td>2013</td>\n",
       "      <td>febrero</td>\n",
       "      <td>Otros</td>\n",
       "      <td>1951162</td>\n",
       "    </tr>\n",
       "    <tr>\n",
       "      <th>296</th>\n",
       "      <td>2013</td>\n",
       "      <td>marzo</td>\n",
       "      <td>Otros</td>\n",
       "      <td>2009368</td>\n",
       "    </tr>\n",
       "    <tr>\n",
       "      <th>297</th>\n",
       "      <td>2013</td>\n",
       "      <td>abril</td>\n",
       "      <td>Otros</td>\n",
       "      <td>2451806</td>\n",
       "    </tr>\n",
       "    <tr>\n",
       "      <th>298</th>\n",
       "      <td>2013</td>\n",
       "      <td>mayo</td>\n",
       "      <td>Otros</td>\n",
       "      <td>2956661</td>\n",
       "    </tr>\n",
       "  </tbody>\n",
       "</table>\n",
       "</div>"
      ],
      "text/plain": [
       "     anio      mes sector  Produccion\n",
       "294  2013    enero  Otros     2347676\n",
       "295  2013  febrero  Otros     1951162\n",
       "296  2013    marzo  Otros     2009368\n",
       "297  2013    abril  Otros     2451806\n",
       "298  2013     mayo  Otros     2956661"
      ]
     },
     "metadata": {},
     "output_type": "display_data"
    },
    {
     "name": "stdout",
     "output_type": "stream",
     "text": [
      "\n",
      "Primeras filas del sector: Pesquera\n"
     ]
    },
    {
     "data": {
      "text/html": [
       "<div>\n",
       "<style scoped>\n",
       "    .dataframe tbody tr th:only-of-type {\n",
       "        vertical-align: middle;\n",
       "    }\n",
       "\n",
       "    .dataframe tbody tr th {\n",
       "        vertical-align: top;\n",
       "    }\n",
       "\n",
       "    .dataframe thead th {\n",
       "        text-align: right;\n",
       "    }\n",
       "</style>\n",
       "<table border=\"1\" class=\"dataframe\">\n",
       "  <thead>\n",
       "    <tr style=\"text-align: right;\">\n",
       "      <th></th>\n",
       "      <th>anio</th>\n",
       "      <th>mes</th>\n",
       "      <th>sector</th>\n",
       "      <th>Produccion</th>\n",
       "    </tr>\n",
       "  </thead>\n",
       "  <tbody>\n",
       "    <tr>\n",
       "      <th>441</th>\n",
       "      <td>2013</td>\n",
       "      <td>enero</td>\n",
       "      <td>Pesquera</td>\n",
       "      <td>2056519</td>\n",
       "    </tr>\n",
       "    <tr>\n",
       "      <th>442</th>\n",
       "      <td>2013</td>\n",
       "      <td>febrero</td>\n",
       "      <td>Pesquera</td>\n",
       "      <td>2016742</td>\n",
       "    </tr>\n",
       "    <tr>\n",
       "      <th>443</th>\n",
       "      <td>2013</td>\n",
       "      <td>marzo</td>\n",
       "      <td>Pesquera</td>\n",
       "      <td>1658171</td>\n",
       "    </tr>\n",
       "    <tr>\n",
       "      <th>444</th>\n",
       "      <td>2013</td>\n",
       "      <td>abril</td>\n",
       "      <td>Pesquera</td>\n",
       "      <td>2612904</td>\n",
       "    </tr>\n",
       "    <tr>\n",
       "      <th>445</th>\n",
       "      <td>2013</td>\n",
       "      <td>mayo</td>\n",
       "      <td>Pesquera</td>\n",
       "      <td>1993512</td>\n",
       "    </tr>\n",
       "  </tbody>\n",
       "</table>\n",
       "</div>"
      ],
      "text/plain": [
       "     anio      mes    sector  Produccion\n",
       "441  2013    enero  Pesquera     2056519\n",
       "442  2013  febrero  Pesquera     2016742\n",
       "443  2013    marzo  Pesquera     1658171\n",
       "444  2013    abril  Pesquera     2612904\n",
       "445  2013     mayo  Pesquera     1993512"
      ]
     },
     "metadata": {},
     "output_type": "display_data"
    },
    {
     "name": "stdout",
     "output_type": "stream",
     "text": [
      "\n",
      "Primeras filas del sector: Plastica\n"
     ]
    },
    {
     "data": {
      "text/html": [
       "<div>\n",
       "<style scoped>\n",
       "    .dataframe tbody tr th:only-of-type {\n",
       "        vertical-align: middle;\n",
       "    }\n",
       "\n",
       "    .dataframe tbody tr th {\n",
       "        vertical-align: top;\n",
       "    }\n",
       "\n",
       "    .dataframe thead th {\n",
       "        text-align: right;\n",
       "    }\n",
       "</style>\n",
       "<table border=\"1\" class=\"dataframe\">\n",
       "  <thead>\n",
       "    <tr style=\"text-align: right;\">\n",
       "      <th></th>\n",
       "      <th>anio</th>\n",
       "      <th>mes</th>\n",
       "      <th>sector</th>\n",
       "      <th>Produccion</th>\n",
       "    </tr>\n",
       "  </thead>\n",
       "  <tbody>\n",
       "    <tr>\n",
       "      <th>588</th>\n",
       "      <td>2013</td>\n",
       "      <td>enero</td>\n",
       "      <td>Plastica</td>\n",
       "      <td>7415631</td>\n",
       "    </tr>\n",
       "    <tr>\n",
       "      <th>589</th>\n",
       "      <td>2013</td>\n",
       "      <td>febrero</td>\n",
       "      <td>Plastica</td>\n",
       "      <td>7822623</td>\n",
       "    </tr>\n",
       "    <tr>\n",
       "      <th>590</th>\n",
       "      <td>2013</td>\n",
       "      <td>marzo</td>\n",
       "      <td>Plastica</td>\n",
       "      <td>8822137</td>\n",
       "    </tr>\n",
       "    <tr>\n",
       "      <th>591</th>\n",
       "      <td>2013</td>\n",
       "      <td>abril</td>\n",
       "      <td>Plastica</td>\n",
       "      <td>9082189</td>\n",
       "    </tr>\n",
       "    <tr>\n",
       "      <th>592</th>\n",
       "      <td>2013</td>\n",
       "      <td>mayo</td>\n",
       "      <td>Plastica</td>\n",
       "      <td>8274301</td>\n",
       "    </tr>\n",
       "  </tbody>\n",
       "</table>\n",
       "</div>"
      ],
      "text/plain": [
       "     anio      mes    sector  Produccion\n",
       "588  2013    enero  Plastica     7415631\n",
       "589  2013  febrero  Plastica     7822623\n",
       "590  2013    marzo  Plastica     8822137\n",
       "591  2013    abril  Plastica     9082189\n",
       "592  2013     mayo  Plastica     8274301"
      ]
     },
     "metadata": {},
     "output_type": "display_data"
    },
    {
     "name": "stdout",
     "output_type": "stream",
     "text": [
      "\n",
      "Primeras filas del sector: Textil\n"
     ]
    },
    {
     "data": {
      "text/html": [
       "<div>\n",
       "<style scoped>\n",
       "    .dataframe tbody tr th:only-of-type {\n",
       "        vertical-align: middle;\n",
       "    }\n",
       "\n",
       "    .dataframe tbody tr th {\n",
       "        vertical-align: top;\n",
       "    }\n",
       "\n",
       "    .dataframe thead th {\n",
       "        text-align: right;\n",
       "    }\n",
       "</style>\n",
       "<table border=\"1\" class=\"dataframe\">\n",
       "  <thead>\n",
       "    <tr style=\"text-align: right;\">\n",
       "      <th></th>\n",
       "      <th>anio</th>\n",
       "      <th>mes</th>\n",
       "      <th>sector</th>\n",
       "      <th>Produccion</th>\n",
       "    </tr>\n",
       "  </thead>\n",
       "  <tbody>\n",
       "    <tr>\n",
       "      <th>734</th>\n",
       "      <td>2013</td>\n",
       "      <td>enero</td>\n",
       "      <td>Textil</td>\n",
       "      <td>2067922</td>\n",
       "    </tr>\n",
       "    <tr>\n",
       "      <th>735</th>\n",
       "      <td>2013</td>\n",
       "      <td>febrero</td>\n",
       "      <td>Textil</td>\n",
       "      <td>2210462</td>\n",
       "    </tr>\n",
       "    <tr>\n",
       "      <th>736</th>\n",
       "      <td>2013</td>\n",
       "      <td>marzo</td>\n",
       "      <td>Textil</td>\n",
       "      <td>2999587</td>\n",
       "    </tr>\n",
       "    <tr>\n",
       "      <th>737</th>\n",
       "      <td>2013</td>\n",
       "      <td>abril</td>\n",
       "      <td>Textil</td>\n",
       "      <td>2624834</td>\n",
       "    </tr>\n",
       "    <tr>\n",
       "      <th>738</th>\n",
       "      <td>2013</td>\n",
       "      <td>mayo</td>\n",
       "      <td>Textil</td>\n",
       "      <td>2943540</td>\n",
       "    </tr>\n",
       "  </tbody>\n",
       "</table>\n",
       "</div>"
      ],
      "text/plain": [
       "     anio      mes  sector  Produccion\n",
       "734  2013    enero  Textil     2067922\n",
       "735  2013  febrero  Textil     2210462\n",
       "736  2013    marzo  Textil     2999587\n",
       "737  2013    abril  Textil     2624834\n",
       "738  2013     mayo  Textil     2943540"
      ]
     },
     "metadata": {},
     "output_type": "display_data"
    }
   ],
   "source": [
    "# Muestro los primeros registros de cada sector para verificar desde qué año arranca cada uno\n",
    "for sector in df_produccion_total['sector'].unique():\n",
    "    print(f\"\\nPrimeras filas del sector: {sector}\")\n",
    "    display(df_produccion_total[df_produccion_total['sector'] == sector].head())\n"
   ]
  },
  {
   "cell_type": "code",
   "execution_count": 17,
   "id": "38504d0b",
   "metadata": {},
   "outputs": [
    {
     "data": {
      "text/plain": [
       "sector\n",
       "Confeccionista    147\n",
       "Electronica       147\n",
       "Otros             147\n",
       "Pesquera          147\n",
       "Textil            147\n",
       "Plastica          146\n",
       "Name: count, dtype: int64"
      ]
     },
     "execution_count": 17,
     "metadata": {},
     "output_type": "execute_result"
    }
   ],
   "source": [
    "# Verifico que luego de la limpieza mantengo la misma cantidad de registros sin haber perdido nada\n",
    "df_produccion_total['sector'].value_counts()"
   ]
  },
  {
   "cell_type": "markdown",
   "id": "0f6dafd1",
   "metadata": {},
   "source": [
    "## 3. Dataset de Empleados por Sector Industrial\n",
    "\n",
    "En esta sección trabajo con el archivo que contiene la cantidad de personal ocupado en establecimientos industriales, desagregado por sector.  \n",
    "El objetivo es dejarlo en formato largo, con columnas normalizadas y sin valores faltantes, listo para ser combinado con el resto de los datasets.\n"
   ]
  },
  {
   "cell_type": "markdown",
   "id": "44a52b37",
   "metadata": {},
   "source": [
    "### 3.1 Carga del archivo y selección de columnas\n",
    "\n",
    "Cargo el archivo Excel original y recorto solo las columnas necesarias.  \n",
    "Relleno los años faltantes hacia abajo y elimino filas vacías o incompletas.\n"
   ]
  },
  {
   "cell_type": "code",
   "execution_count": 18,
   "id": "a298f2cd",
   "metadata": {},
   "outputs": [],
   "source": [
    "# Cargo el archivo\n",
    "archivo_empleados = ruta_base + '14_3_01_Personal_industria_rama-1.xlsx'\n",
    "df_emp = pd.read_excel(archivo_empleados, skiprows=2)\n",
    "\n",
    "# Corto solo las columnas necesarias (A → H = 0:8)\n",
    "df_emp = df_emp.iloc[:, 0:8]\n",
    "df_emp.columns = ['anio', 'mes', 'Confeccionista', 'Electrónicas', 'Plásticas', 'Textiles', 'Pesqueras', 'Otras']\n",
    "\n",
    "# Relleno año hacia abajo\n",
    "df_emp['anio'] = df_emp['anio'].ffill()\n",
    "\n",
    "# Quito filas vacías de año o mes\n",
    "df_emp = df_emp.dropna(subset=['anio', 'mes'])\n",
    "df_emp['anio'] = df_emp['anio'].astype(int)\n",
    "df_emp['mes'] = df_emp['mes'].astype(str)"
   ]
  },
  {
   "cell_type": "markdown",
   "id": "b58c59c9",
   "metadata": {},
   "source": [
    "### 3.2 Transformación a formato largo\n",
    "\n",
    "Transformo el dataset a formato largo (una fila por mes, año y sector).  \n",
    "Renombro las variables y capitalizo los nombres de sector.\n"
   ]
  },
  {
   "cell_type": "code",
   "execution_count": 19,
   "id": "7657498c",
   "metadata": {},
   "outputs": [
    {
     "name": "stdout",
     "output_type": "stream",
     "text": [
      "Dataset de empleados normalizado:\n"
     ]
    },
    {
     "data": {
      "text/html": [
       "<div>\n",
       "<style scoped>\n",
       "    .dataframe tbody tr th:only-of-type {\n",
       "        vertical-align: middle;\n",
       "    }\n",
       "\n",
       "    .dataframe tbody tr th {\n",
       "        vertical-align: top;\n",
       "    }\n",
       "\n",
       "    .dataframe thead th {\n",
       "        text-align: right;\n",
       "    }\n",
       "</style>\n",
       "<table border=\"1\" class=\"dataframe\">\n",
       "  <thead>\n",
       "    <tr style=\"text-align: right;\">\n",
       "      <th></th>\n",
       "      <th>anio</th>\n",
       "      <th>mes</th>\n",
       "      <th>sector</th>\n",
       "      <th>empleados</th>\n",
       "    </tr>\n",
       "  </thead>\n",
       "  <tbody>\n",
       "    <tr>\n",
       "      <th>0</th>\n",
       "      <td>2001</td>\n",
       "      <td>Enero</td>\n",
       "      <td>Confeccionista</td>\n",
       "      <td>326.0</td>\n",
       "    </tr>\n",
       "    <tr>\n",
       "      <th>1</th>\n",
       "      <td>2001</td>\n",
       "      <td>Febrero</td>\n",
       "      <td>Confeccionista</td>\n",
       "      <td>323.0</td>\n",
       "    </tr>\n",
       "    <tr>\n",
       "      <th>2</th>\n",
       "      <td>2001</td>\n",
       "      <td>Marzo</td>\n",
       "      <td>Confeccionista</td>\n",
       "      <td>333.0</td>\n",
       "    </tr>\n",
       "    <tr>\n",
       "      <th>3</th>\n",
       "      <td>2001</td>\n",
       "      <td>Abril</td>\n",
       "      <td>Confeccionista</td>\n",
       "      <td>337.0</td>\n",
       "    </tr>\n",
       "    <tr>\n",
       "      <th>4</th>\n",
       "      <td>2001</td>\n",
       "      <td>Mayo</td>\n",
       "      <td>Confeccionista</td>\n",
       "      <td>346.0</td>\n",
       "    </tr>\n",
       "    <tr>\n",
       "      <th>5</th>\n",
       "      <td>2001</td>\n",
       "      <td>Junio</td>\n",
       "      <td>Confeccionista</td>\n",
       "      <td>352.0</td>\n",
       "    </tr>\n",
       "    <tr>\n",
       "      <th>6</th>\n",
       "      <td>2001</td>\n",
       "      <td>Julio</td>\n",
       "      <td>Confeccionista</td>\n",
       "      <td>354.0</td>\n",
       "    </tr>\n",
       "    <tr>\n",
       "      <th>7</th>\n",
       "      <td>2001</td>\n",
       "      <td>Agosto</td>\n",
       "      <td>Confeccionista</td>\n",
       "      <td>351.0</td>\n",
       "    </tr>\n",
       "    <tr>\n",
       "      <th>8</th>\n",
       "      <td>2001</td>\n",
       "      <td>Septiembre</td>\n",
       "      <td>Confeccionista</td>\n",
       "      <td>347.0</td>\n",
       "    </tr>\n",
       "    <tr>\n",
       "      <th>9</th>\n",
       "      <td>2001</td>\n",
       "      <td>Octubre</td>\n",
       "      <td>Confeccionista</td>\n",
       "      <td>339.0</td>\n",
       "    </tr>\n",
       "    <tr>\n",
       "      <th>10</th>\n",
       "      <td>2001</td>\n",
       "      <td>Noviembre</td>\n",
       "      <td>Confeccionista</td>\n",
       "      <td>307.0</td>\n",
       "    </tr>\n",
       "    <tr>\n",
       "      <th>11</th>\n",
       "      <td>2001</td>\n",
       "      <td>Diciembre</td>\n",
       "      <td>Confeccionista</td>\n",
       "      <td>301.0</td>\n",
       "    </tr>\n",
       "    <tr>\n",
       "      <th>12</th>\n",
       "      <td>2002</td>\n",
       "      <td>enero</td>\n",
       "      <td>Confeccionista</td>\n",
       "      <td>317.0</td>\n",
       "    </tr>\n",
       "    <tr>\n",
       "      <th>13</th>\n",
       "      <td>2002</td>\n",
       "      <td>febrero</td>\n",
       "      <td>Confeccionista</td>\n",
       "      <td>314.0</td>\n",
       "    </tr>\n",
       "    <tr>\n",
       "      <th>14</th>\n",
       "      <td>2002</td>\n",
       "      <td>marzo</td>\n",
       "      <td>Confeccionista</td>\n",
       "      <td>313.0</td>\n",
       "    </tr>\n",
       "  </tbody>\n",
       "</table>\n",
       "</div>"
      ],
      "text/plain": [
       "    anio         mes          sector empleados\n",
       "0   2001      Enero   Confeccionista     326.0\n",
       "1   2001     Febrero  Confeccionista     323.0\n",
       "2   2001       Marzo  Confeccionista     333.0\n",
       "3   2001       Abril  Confeccionista     337.0\n",
       "4   2001        Mayo  Confeccionista     346.0\n",
       "5   2001       Junio  Confeccionista     352.0\n",
       "6   2001       Julio  Confeccionista     354.0\n",
       "7   2001      Agosto  Confeccionista     351.0\n",
       "8   2001  Septiembre  Confeccionista     347.0\n",
       "9   2001     Octubre  Confeccionista     339.0\n",
       "10  2001   Noviembre  Confeccionista     307.0\n",
       "11  2001   Diciembre  Confeccionista     301.0\n",
       "12  2002       enero  Confeccionista     317.0\n",
       "13  2002     febrero  Confeccionista     314.0\n",
       "14  2002       marzo  Confeccionista     313.0"
      ]
     },
     "metadata": {},
     "output_type": "display_data"
    }
   ],
   "source": [
    "# Paso a formato largo\n",
    "df_empleados_limpio = df_emp.melt(\n",
    "    id_vars=['anio', 'mes'],\n",
    "    var_name='sector',\n",
    "    value_name='empleados'\n",
    ")\n",
    "\n",
    "# Capitalizo el sector\n",
    "df_empleados_limpio['sector'] = df_empleados_limpio['sector'].str.capitalize()\n",
    "\n",
    "# Muestro el dataframe \n",
    "print(\"Dataset de empleados normalizado:\")\n",
    "display(df_empleados_limpio.head(15))\n"
   ]
  },
  {
   "cell_type": "markdown",
   "id": "1273e784",
   "metadata": {},
   "source": [
    "### 3.3 Diagnóstico del dataset en formato largo\n",
    "\n",
    "Una vez transformado el dataset al formato largo, realizo un diagnóstico inicial para entender su estructura.  \n",
    "Reviso los tipos de datos, la presencia de valores nulos, duplicados, y la distribución general de sectores, meses y empleados.  \n",
    "Esto me ayuda a detectar errores de carga o inconsistencias antes de comenzar la limpieza.\n"
   ]
  },
  {
   "cell_type": "code",
   "execution_count": 20,
   "id": "234fdcbb",
   "metadata": {},
   "outputs": [
    {
     "name": "stdout",
     "output_type": "stream",
     "text": [
      "<class 'pandas.core.frame.DataFrame'>\n",
      "RangeIndex: 1746 entries, 0 to 1745\n",
      "Data columns (total 4 columns):\n",
      " #   Column     Non-Null Count  Dtype \n",
      "---  ------     --------------  ----- \n",
      " 0   anio       1746 non-null   int32 \n",
      " 1   mes        1746 non-null   object\n",
      " 2   sector     1746 non-null   object\n",
      " 3   empleados  1746 non-null   object\n",
      "dtypes: int32(1), object(3)\n",
      "memory usage: 47.9+ KB\n"
     ]
    }
   ],
   "source": [
    "# Tipo de datos y cantidad de valores no nulos\n",
    "df_empleados_limpio.info()"
   ]
  },
  {
   "cell_type": "code",
   "execution_count": 21,
   "id": "1281dcea",
   "metadata": {},
   "outputs": [
    {
     "data": {
      "text/plain": [
       "anio         0\n",
       "mes          0\n",
       "sector       0\n",
       "empleados    0\n",
       "dtype: int64"
      ]
     },
     "execution_count": 21,
     "metadata": {},
     "output_type": "execute_result"
    }
   ],
   "source": [
    "# Cantidad de valores nulos por columna\n",
    "df_empleados_limpio.isnull().sum()"
   ]
  },
  {
   "cell_type": "code",
   "execution_count": 22,
   "id": "5ebae7c6",
   "metadata": {},
   "outputs": [
    {
     "data": {
      "text/plain": [
       "empleados\n",
       "296.0      8\n",
       "723.0      8\n",
       "722.0      7\n",
       "192.0      7\n",
       "126.0      7\n",
       "          ..\n",
       "10202.0    1\n",
       "10152.0    1\n",
       "9713.0     1\n",
       "9335.0     1\n",
       "551.0      1\n",
       "Name: count, Length: 875, dtype: int64"
      ]
     },
     "execution_count": 22,
     "metadata": {},
     "output_type": "execute_result"
    }
   ],
   "source": [
    "# Estadísticas descriptivas de los empleados\n",
    "df_empleados_limpio['empleados'].value_counts()"
   ]
  },
  {
   "cell_type": "code",
   "execution_count": 23,
   "id": "470c3932",
   "metadata": {},
   "outputs": [
    {
     "data": {
      "text/plain": [
       "sector\n",
       "Confeccionista    291\n",
       "Electrónicas      291\n",
       "Plásticas         291\n",
       "Textiles          291\n",
       "Pesqueras         291\n",
       "Otras             291\n",
       "Name: count, dtype: int64"
      ]
     },
     "execution_count": 23,
     "metadata": {},
     "output_type": "execute_result"
    }
   ],
   "source": [
    "# Conteo de registros por sector\n",
    "df_empleados_limpio['sector'].value_counts()"
   ]
  },
  {
   "cell_type": "code",
   "execution_count": 24,
   "id": "07118ce9",
   "metadata": {},
   "outputs": [
    {
     "data": {
      "text/plain": [
       "mes\n",
       "julio          120\n",
       "noviembre      120\n",
       "junio          120\n",
       "mayo           120\n",
       "abril          120\n",
       "marzo          120\n",
       "febrero        120\n",
       "enero          120\n",
       "octubre        120\n",
       "diciembre      120\n",
       "agosto         120\n",
       "septiembre     120\n",
       "febrero         12\n",
       "marzo           12\n",
       "abril           12\n",
       "mayo            12\n",
       "junio           12\n",
       "julio           12\n",
       "agosto          12\n",
       "enero           12\n",
       "Enero*          12\n",
       "Diciembre       12\n",
       "Noviembre       12\n",
       "Octubre         12\n",
       "Septiembre      12\n",
       "Febrero*        12\n",
       "Junio*           6\n",
       "Julio*           6\n",
       "Agosto*          6\n",
       "Septiembre*      6\n",
       "Octubre*         6\n",
       "Noviembre*       6\n",
       "diciembre*       6\n",
       "Mayo*            6\n",
       "Abril*           6\n",
       "Marzo*           6\n",
       "Enero            6\n",
       "diciembre        6\n",
       "noviembre        6\n",
       "octubre          6\n",
       "septiembre       6\n",
       "Febrero          6\n",
       "Agosto           6\n",
       "Julio            6\n",
       "Junio            6\n",
       "Mayo             6\n",
       "Abril            6\n",
       "Marzo            6\n",
       "Mar*             6\n",
       "Name: count, dtype: int64"
      ]
     },
     "execution_count": 24,
     "metadata": {},
     "output_type": "execute_result"
    }
   ],
   "source": [
    "# Distribución de valores por mes\n",
    "df_empleados_limpio['mes'].value_counts()"
   ]
  },
  {
   "cell_type": "code",
   "execution_count": 25,
   "id": "3417801f",
   "metadata": {},
   "outputs": [
    {
     "data": {
      "text/plain": [
       "anio\n",
       "2001    72\n",
       "2002    72\n",
       "2003    72\n",
       "2004    72\n",
       "2005    72\n",
       "2006    72\n",
       "2007    72\n",
       "2008    72\n",
       "2009    72\n",
       "2010    72\n",
       "2011    72\n",
       "2012    72\n",
       "2013    72\n",
       "2014    72\n",
       "2015    72\n",
       "2016    72\n",
       "2017    72\n",
       "2018    72\n",
       "2019    72\n",
       "2020    72\n",
       "2021    72\n",
       "2022    72\n",
       "2023    72\n",
       "2024    72\n",
       "2025    18\n",
       "Name: count, dtype: int64"
      ]
     },
     "execution_count": 25,
     "metadata": {},
     "output_type": "execute_result"
    }
   ],
   "source": [
    "# Verifico años disponibles\n",
    "df_empleados_limpio['anio'].value_counts().sort_index()"
   ]
  },
  {
   "cell_type": "code",
   "execution_count": 26,
   "id": "3107d9ce",
   "metadata": {},
   "outputs": [
    {
     "data": {
      "text/plain": [
       "0"
      ]
     },
     "execution_count": 26,
     "metadata": {},
     "output_type": "execute_result"
    }
   ],
   "source": [
    "# Duplicados\n",
    "df_empleados_limpio.duplicated().sum()"
   ]
  },
  {
   "cell_type": "markdown",
   "id": "52b8a85b",
   "metadata": {},
   "source": [
    "### 3.3 Limpieza de la columna `empleados`\n",
    "\n",
    "Convierto todos los valores no numéricos a `NaN`, y verifico cuántos valores nulos hay por sector.\n"
   ]
  },
  {
   "cell_type": "code",
   "execution_count": 27,
   "id": "4d1ff870",
   "metadata": {},
   "outputs": [
    {
     "data": {
      "text/html": [
       "<div>\n",
       "<style scoped>\n",
       "    .dataframe tbody tr th:only-of-type {\n",
       "        vertical-align: middle;\n",
       "    }\n",
       "\n",
       "    .dataframe tbody tr th {\n",
       "        vertical-align: top;\n",
       "    }\n",
       "\n",
       "    .dataframe thead th {\n",
       "        text-align: right;\n",
       "    }\n",
       "</style>\n",
       "<table border=\"1\" class=\"dataframe\">\n",
       "  <thead>\n",
       "    <tr style=\"text-align: right;\">\n",
       "      <th></th>\n",
       "      <th>anio</th>\n",
       "      <th>mes</th>\n",
       "      <th>sector</th>\n",
       "      <th>empleados</th>\n",
       "    </tr>\n",
       "    <tr>\n",
       "      <th>sector</th>\n",
       "      <th></th>\n",
       "      <th></th>\n",
       "      <th></th>\n",
       "      <th></th>\n",
       "    </tr>\n",
       "  </thead>\n",
       "  <tbody>\n",
       "    <tr>\n",
       "      <th>Confeccionista</th>\n",
       "      <td>0</td>\n",
       "      <td>0</td>\n",
       "      <td>0</td>\n",
       "      <td>0</td>\n",
       "    </tr>\n",
       "    <tr>\n",
       "      <th>Electrónicas</th>\n",
       "      <td>0</td>\n",
       "      <td>0</td>\n",
       "      <td>0</td>\n",
       "      <td>0</td>\n",
       "    </tr>\n",
       "    <tr>\n",
       "      <th>Otras</th>\n",
       "      <td>0</td>\n",
       "      <td>0</td>\n",
       "      <td>0</td>\n",
       "      <td>0</td>\n",
       "    </tr>\n",
       "    <tr>\n",
       "      <th>Pesqueras</th>\n",
       "      <td>0</td>\n",
       "      <td>0</td>\n",
       "      <td>0</td>\n",
       "      <td>3</td>\n",
       "    </tr>\n",
       "    <tr>\n",
       "      <th>Plásticas</th>\n",
       "      <td>0</td>\n",
       "      <td>0</td>\n",
       "      <td>0</td>\n",
       "      <td>0</td>\n",
       "    </tr>\n",
       "    <tr>\n",
       "      <th>Textiles</th>\n",
       "      <td>0</td>\n",
       "      <td>0</td>\n",
       "      <td>0</td>\n",
       "      <td>0</td>\n",
       "    </tr>\n",
       "  </tbody>\n",
       "</table>\n",
       "</div>"
      ],
      "text/plain": [
       "                anio  mes  sector  empleados\n",
       "sector                                      \n",
       "Confeccionista     0    0       0          0\n",
       "Electrónicas       0    0       0          0\n",
       "Otras              0    0       0          0\n",
       "Pesqueras          0    0       0          3\n",
       "Plásticas          0    0       0          0\n",
       "Textiles           0    0       0          0"
      ]
     },
     "execution_count": 27,
     "metadata": {},
     "output_type": "execute_result"
    }
   ],
   "source": [
    "df_empleados_limpio['empleados'] = pd.to_numeric(df_empleados_limpio['empleados'], errors='coerce')\n",
    "df_empleados_limpio.isna().groupby(df_empleados_limpio['sector']).sum()"
   ]
  },
  {
   "cell_type": "markdown",
   "id": "462bde33",
   "metadata": {},
   "source": [
    "### 3.4 Normalización de la columna `mes`\n",
    "\n",
    "Unifico todos los valores de la columna `mes` a su forma completa y en minúscula.  \n",
    "Esto evita inconsistencias como `\"Feb\"`, `\"febrero\"`, `\"Feb*\"` o `\"feb.`\"."
   ]
  },
  {
   "cell_type": "code",
   "execution_count": 28,
   "id": "0541fe04",
   "metadata": {},
   "outputs": [],
   "source": [
    "mes_completo = {\n",
    "    'ene': 'enero', 'enero': 'enero',\n",
    "    'feb': 'febrero', 'febrero': 'febrero',\n",
    "    'mar': 'marzo', 'marzo': 'marzo',\n",
    "    'abr': 'abril', 'abril': 'abril',\n",
    "    'may': 'mayo', 'mayo': 'mayo',\n",
    "    'jun': 'junio', 'junio': 'junio',\n",
    "    'jul': 'julio', 'julio': 'julio',\n",
    "    'ago': 'agosto', 'agosto': 'agosto',\n",
    "    'sep': 'septiembre', 'septiembre': 'septiembre',\n",
    "    'oct': 'octubre', 'octubre': 'octubre',\n",
    "    'nov': 'noviembre', 'noviembre': 'noviembre',\n",
    "    'dic': 'diciembre', 'diciembre': 'diciembre'\n",
    "}\n",
    "\n",
    "df_empleados_limpio['mes'] = (\n",
    "    df_empleados_limpio['mes']\n",
    "    .astype(str)\n",
    "    .str.strip()\n",
    "    .str.lower()\n",
    "    .str.replace(r'\\*', '', regex=True)\n",
    "    .map(mes_completo)\n",
    ")\n"
   ]
  },
  {
   "cell_type": "markdown",
   "id": "a67a6177",
   "metadata": {},
   "source": [
    "### 3.5 Imputación manual de valores faltantes\n",
    "\n",
    "Para el sector Pesqueras, en los meses de diciembre de los años 2001, 2002 y 2004, imputo los valores faltantes.  \n",
    "Utilizo el promedio entre el mes anterior y el posterior para mantener la coherencia temporal.\n"
   ]
  },
  {
   "cell_type": "markdown",
   "id": "0d01204d",
   "metadata": {},
   "source": [
    "\n",
    "\n",
    "Diciembre 2001 → promedio entre noviembre 2001 y enero 2002\n",
    "\n",
    "Diciembre 2002 → promedio entre noviembre 2002 y enero 2003\n",
    "\n",
    "Diciembre 2004 → promedio entre noviembre 2004 y enero 2005\n",
    "\n"
   ]
  },
  {
   "cell_type": "code",
   "execution_count": 29,
   "id": "7dd701a5",
   "metadata": {},
   "outputs": [],
   "source": [
    "# Lista de casos a imputar manualmente\n",
    "casos = [\n",
    "    {'anio': 2001, 'mes': 'diciembre'},\n",
    "    {'anio': 2002, 'mes': 'diciembre'},\n",
    "    {'anio': 2004, 'mes': 'diciembre'}\n",
    "]\n",
    "\n",
    "for caso in casos:\n",
    "    anio = caso['anio']\n",
    "    mes = caso['mes']\n",
    "\n",
    "    # Índice de la fila a reemplazar\n",
    "    idx = df_empleados_limpio[\n",
    "        (df_empleados_limpio['anio'] == anio) &\n",
    "        (df_empleados_limpio['mes'] == mes) &\n",
    "        (df_empleados_limpio['sector'] == 'Pesqueras')\n",
    "    ].index\n",
    "\n",
    "    if not idx.empty:\n",
    "        i = idx[0]\n",
    "\n",
    "        # Valor anterior y posterior\n",
    "        empleados_ant = df_empleados_limpio.iloc[i - 1]['empleados']\n",
    "        empleados_sig = df_empleados_limpio.iloc[i + 1]['empleados']\n",
    "\n",
    "        # Promedio\n",
    "        promedio = (empleados_ant + empleados_sig) / 2\n",
    "\n",
    "        # Asignamos\n",
    "        df_empleados_limpio.at[i, 'empleados'] = promedio"
   ]
  },
  {
   "cell_type": "code",
   "execution_count": 30,
   "id": "8ed6ed08",
   "metadata": {},
   "outputs": [],
   "source": [
    "# Redondeo y convierto a entero para dejar la columna 'empleados' completamente limpia\n",
    "# Esto es importante para que no queden valores flotantes luego de la imputación por promedio\n",
    "df_empleados_limpio['empleados'] = df_empleados_limpio['empleados'].round().astype(int)"
   ]
  },
  {
   "cell_type": "markdown",
   "id": "64501967",
   "metadata": {},
   "source": [
    "### 3.6 Verificación final del dataset\n",
    "\n",
    "Verifico que no queden valores nulos, reviso los primeros registros por sector y confirmo que la columna `empleados` esté completamente limpia.\n"
   ]
  },
  {
   "cell_type": "code",
   "execution_count": 31,
   "id": "22f29e77",
   "metadata": {},
   "outputs": [
    {
     "data": {
      "text/plain": [
       "sector\n",
       "Confeccionista    291\n",
       "Electrónicas      291\n",
       "Plásticas         291\n",
       "Textiles          291\n",
       "Pesqueras         291\n",
       "Otras             291\n",
       "Name: count, dtype: int64"
      ]
     },
     "execution_count": 31,
     "metadata": {},
     "output_type": "execute_result"
    }
   ],
   "source": [
    "df_empleados_limpio.isna().groupby(df_empleados_limpio['sector']).sum()\n",
    "df_empleados_limpio['sector'].value_counts()"
   ]
  },
  {
   "cell_type": "code",
   "execution_count": 32,
   "id": "a76c8ccd",
   "metadata": {},
   "outputs": [
    {
     "data": {
      "text/html": [
       "<div>\n",
       "<style scoped>\n",
       "    .dataframe tbody tr th:only-of-type {\n",
       "        vertical-align: middle;\n",
       "    }\n",
       "\n",
       "    .dataframe tbody tr th {\n",
       "        vertical-align: top;\n",
       "    }\n",
       "\n",
       "    .dataframe thead th {\n",
       "        text-align: right;\n",
       "    }\n",
       "</style>\n",
       "<table border=\"1\" class=\"dataframe\">\n",
       "  <thead>\n",
       "    <tr style=\"text-align: right;\">\n",
       "      <th></th>\n",
       "      <th>anio</th>\n",
       "      <th>mes</th>\n",
       "      <th>sector</th>\n",
       "      <th>empleados</th>\n",
       "    </tr>\n",
       "    <tr>\n",
       "      <th>sector</th>\n",
       "      <th></th>\n",
       "      <th></th>\n",
       "      <th></th>\n",
       "      <th></th>\n",
       "    </tr>\n",
       "  </thead>\n",
       "  <tbody>\n",
       "    <tr>\n",
       "      <th>Confeccionista</th>\n",
       "      <td>0</td>\n",
       "      <td>0</td>\n",
       "      <td>0</td>\n",
       "      <td>0</td>\n",
       "    </tr>\n",
       "    <tr>\n",
       "      <th>Electrónicas</th>\n",
       "      <td>0</td>\n",
       "      <td>0</td>\n",
       "      <td>0</td>\n",
       "      <td>0</td>\n",
       "    </tr>\n",
       "    <tr>\n",
       "      <th>Otras</th>\n",
       "      <td>0</td>\n",
       "      <td>0</td>\n",
       "      <td>0</td>\n",
       "      <td>0</td>\n",
       "    </tr>\n",
       "    <tr>\n",
       "      <th>Pesqueras</th>\n",
       "      <td>0</td>\n",
       "      <td>0</td>\n",
       "      <td>0</td>\n",
       "      <td>0</td>\n",
       "    </tr>\n",
       "    <tr>\n",
       "      <th>Plásticas</th>\n",
       "      <td>0</td>\n",
       "      <td>0</td>\n",
       "      <td>0</td>\n",
       "      <td>0</td>\n",
       "    </tr>\n",
       "    <tr>\n",
       "      <th>Textiles</th>\n",
       "      <td>0</td>\n",
       "      <td>0</td>\n",
       "      <td>0</td>\n",
       "      <td>0</td>\n",
       "    </tr>\n",
       "  </tbody>\n",
       "</table>\n",
       "</div>"
      ],
      "text/plain": [
       "                anio  mes  sector  empleados\n",
       "sector                                      \n",
       "Confeccionista     0    0       0          0\n",
       "Electrónicas       0    0       0          0\n",
       "Otras              0    0       0          0\n",
       "Pesqueras          0    0       0          0\n",
       "Plásticas          0    0       0          0\n",
       "Textiles           0    0       0          0"
      ]
     },
     "execution_count": 32,
     "metadata": {},
     "output_type": "execute_result"
    }
   ],
   "source": [
    "# Cuántos valores nulos hay por sector\n",
    "df_empleados_limpio.isna().groupby(df_empleados_limpio['sector']).sum()"
   ]
  },
  {
   "cell_type": "code",
   "execution_count": 33,
   "id": "1af87d59",
   "metadata": {},
   "outputs": [
    {
     "name": "stdout",
     "output_type": "stream",
     "text": [
      "['abril', 'agosto', 'diciembre', 'enero', 'febrero', 'julio', 'junio', 'marzo', 'mayo', 'noviembre', 'octubre', 'septiembre']\n"
     ]
    }
   ],
   "source": [
    "# Verifico valores únicos\n",
    "print(sorted(df_empleados_limpio['mes'].unique()))"
   ]
  },
  {
   "cell_type": "code",
   "execution_count": 34,
   "id": "8bd3bf1f",
   "metadata": {},
   "outputs": [
    {
     "name": "stdout",
     "output_type": "stream",
     "text": [
      "\n",
      "Primeras filas del sector: Confeccionista\n"
     ]
    },
    {
     "data": {
      "text/html": [
       "<div>\n",
       "<style scoped>\n",
       "    .dataframe tbody tr th:only-of-type {\n",
       "        vertical-align: middle;\n",
       "    }\n",
       "\n",
       "    .dataframe tbody tr th {\n",
       "        vertical-align: top;\n",
       "    }\n",
       "\n",
       "    .dataframe thead th {\n",
       "        text-align: right;\n",
       "    }\n",
       "</style>\n",
       "<table border=\"1\" class=\"dataframe\">\n",
       "  <thead>\n",
       "    <tr style=\"text-align: right;\">\n",
       "      <th></th>\n",
       "      <th>anio</th>\n",
       "      <th>mes</th>\n",
       "      <th>sector</th>\n",
       "      <th>empleados</th>\n",
       "    </tr>\n",
       "  </thead>\n",
       "  <tbody>\n",
       "    <tr>\n",
       "      <th>0</th>\n",
       "      <td>2001</td>\n",
       "      <td>enero</td>\n",
       "      <td>Confeccionista</td>\n",
       "      <td>326</td>\n",
       "    </tr>\n",
       "    <tr>\n",
       "      <th>1</th>\n",
       "      <td>2001</td>\n",
       "      <td>febrero</td>\n",
       "      <td>Confeccionista</td>\n",
       "      <td>323</td>\n",
       "    </tr>\n",
       "    <tr>\n",
       "      <th>2</th>\n",
       "      <td>2001</td>\n",
       "      <td>marzo</td>\n",
       "      <td>Confeccionista</td>\n",
       "      <td>333</td>\n",
       "    </tr>\n",
       "    <tr>\n",
       "      <th>3</th>\n",
       "      <td>2001</td>\n",
       "      <td>abril</td>\n",
       "      <td>Confeccionista</td>\n",
       "      <td>337</td>\n",
       "    </tr>\n",
       "    <tr>\n",
       "      <th>4</th>\n",
       "      <td>2001</td>\n",
       "      <td>mayo</td>\n",
       "      <td>Confeccionista</td>\n",
       "      <td>346</td>\n",
       "    </tr>\n",
       "  </tbody>\n",
       "</table>\n",
       "</div>"
      ],
      "text/plain": [
       "   anio      mes          sector  empleados\n",
       "0  2001    enero  Confeccionista        326\n",
       "1  2001  febrero  Confeccionista        323\n",
       "2  2001    marzo  Confeccionista        333\n",
       "3  2001    abril  Confeccionista        337\n",
       "4  2001     mayo  Confeccionista        346"
      ]
     },
     "metadata": {},
     "output_type": "display_data"
    },
    {
     "name": "stdout",
     "output_type": "stream",
     "text": [
      "\n",
      "Primeras filas del sector: Electrónicas\n"
     ]
    },
    {
     "data": {
      "text/html": [
       "<div>\n",
       "<style scoped>\n",
       "    .dataframe tbody tr th:only-of-type {\n",
       "        vertical-align: middle;\n",
       "    }\n",
       "\n",
       "    .dataframe tbody tr th {\n",
       "        vertical-align: top;\n",
       "    }\n",
       "\n",
       "    .dataframe thead th {\n",
       "        text-align: right;\n",
       "    }\n",
       "</style>\n",
       "<table border=\"1\" class=\"dataframe\">\n",
       "  <thead>\n",
       "    <tr style=\"text-align: right;\">\n",
       "      <th></th>\n",
       "      <th>anio</th>\n",
       "      <th>mes</th>\n",
       "      <th>sector</th>\n",
       "      <th>empleados</th>\n",
       "    </tr>\n",
       "  </thead>\n",
       "  <tbody>\n",
       "    <tr>\n",
       "      <th>291</th>\n",
       "      <td>2001</td>\n",
       "      <td>enero</td>\n",
       "      <td>Electrónicas</td>\n",
       "      <td>2652</td>\n",
       "    </tr>\n",
       "    <tr>\n",
       "      <th>292</th>\n",
       "      <td>2001</td>\n",
       "      <td>febrero</td>\n",
       "      <td>Electrónicas</td>\n",
       "      <td>2624</td>\n",
       "    </tr>\n",
       "    <tr>\n",
       "      <th>293</th>\n",
       "      <td>2001</td>\n",
       "      <td>marzo</td>\n",
       "      <td>Electrónicas</td>\n",
       "      <td>2629</td>\n",
       "    </tr>\n",
       "    <tr>\n",
       "      <th>294</th>\n",
       "      <td>2001</td>\n",
       "      <td>abril</td>\n",
       "      <td>Electrónicas</td>\n",
       "      <td>2249</td>\n",
       "    </tr>\n",
       "    <tr>\n",
       "      <th>295</th>\n",
       "      <td>2001</td>\n",
       "      <td>mayo</td>\n",
       "      <td>Electrónicas</td>\n",
       "      <td>2323</td>\n",
       "    </tr>\n",
       "  </tbody>\n",
       "</table>\n",
       "</div>"
      ],
      "text/plain": [
       "     anio      mes        sector  empleados\n",
       "291  2001    enero  Electrónicas       2652\n",
       "292  2001  febrero  Electrónicas       2624\n",
       "293  2001    marzo  Electrónicas       2629\n",
       "294  2001    abril  Electrónicas       2249\n",
       "295  2001     mayo  Electrónicas       2323"
      ]
     },
     "metadata": {},
     "output_type": "display_data"
    },
    {
     "name": "stdout",
     "output_type": "stream",
     "text": [
      "\n",
      "Primeras filas del sector: Plásticas\n"
     ]
    },
    {
     "data": {
      "text/html": [
       "<div>\n",
       "<style scoped>\n",
       "    .dataframe tbody tr th:only-of-type {\n",
       "        vertical-align: middle;\n",
       "    }\n",
       "\n",
       "    .dataframe tbody tr th {\n",
       "        vertical-align: top;\n",
       "    }\n",
       "\n",
       "    .dataframe thead th {\n",
       "        text-align: right;\n",
       "    }\n",
       "</style>\n",
       "<table border=\"1\" class=\"dataframe\">\n",
       "  <thead>\n",
       "    <tr style=\"text-align: right;\">\n",
       "      <th></th>\n",
       "      <th>anio</th>\n",
       "      <th>mes</th>\n",
       "      <th>sector</th>\n",
       "      <th>empleados</th>\n",
       "    </tr>\n",
       "  </thead>\n",
       "  <tbody>\n",
       "    <tr>\n",
       "      <th>582</th>\n",
       "      <td>2001</td>\n",
       "      <td>enero</td>\n",
       "      <td>Plásticas</td>\n",
       "      <td>284</td>\n",
       "    </tr>\n",
       "    <tr>\n",
       "      <th>583</th>\n",
       "      <td>2001</td>\n",
       "      <td>febrero</td>\n",
       "      <td>Plásticas</td>\n",
       "      <td>282</td>\n",
       "    </tr>\n",
       "    <tr>\n",
       "      <th>584</th>\n",
       "      <td>2001</td>\n",
       "      <td>marzo</td>\n",
       "      <td>Plásticas</td>\n",
       "      <td>284</td>\n",
       "    </tr>\n",
       "    <tr>\n",
       "      <th>585</th>\n",
       "      <td>2001</td>\n",
       "      <td>abril</td>\n",
       "      <td>Plásticas</td>\n",
       "      <td>289</td>\n",
       "    </tr>\n",
       "    <tr>\n",
       "      <th>586</th>\n",
       "      <td>2001</td>\n",
       "      <td>mayo</td>\n",
       "      <td>Plásticas</td>\n",
       "      <td>289</td>\n",
       "    </tr>\n",
       "  </tbody>\n",
       "</table>\n",
       "</div>"
      ],
      "text/plain": [
       "     anio      mes     sector  empleados\n",
       "582  2001    enero  Plásticas        284\n",
       "583  2001  febrero  Plásticas        282\n",
       "584  2001    marzo  Plásticas        284\n",
       "585  2001    abril  Plásticas        289\n",
       "586  2001     mayo  Plásticas        289"
      ]
     },
     "metadata": {},
     "output_type": "display_data"
    },
    {
     "name": "stdout",
     "output_type": "stream",
     "text": [
      "\n",
      "Primeras filas del sector: Textiles\n"
     ]
    },
    {
     "data": {
      "text/html": [
       "<div>\n",
       "<style scoped>\n",
       "    .dataframe tbody tr th:only-of-type {\n",
       "        vertical-align: middle;\n",
       "    }\n",
       "\n",
       "    .dataframe tbody tr th {\n",
       "        vertical-align: top;\n",
       "    }\n",
       "\n",
       "    .dataframe thead th {\n",
       "        text-align: right;\n",
       "    }\n",
       "</style>\n",
       "<table border=\"1\" class=\"dataframe\">\n",
       "  <thead>\n",
       "    <tr style=\"text-align: right;\">\n",
       "      <th></th>\n",
       "      <th>anio</th>\n",
       "      <th>mes</th>\n",
       "      <th>sector</th>\n",
       "      <th>empleados</th>\n",
       "    </tr>\n",
       "  </thead>\n",
       "  <tbody>\n",
       "    <tr>\n",
       "      <th>873</th>\n",
       "      <td>2001</td>\n",
       "      <td>enero</td>\n",
       "      <td>Textiles</td>\n",
       "      <td>274</td>\n",
       "    </tr>\n",
       "    <tr>\n",
       "      <th>874</th>\n",
       "      <td>2001</td>\n",
       "      <td>febrero</td>\n",
       "      <td>Textiles</td>\n",
       "      <td>283</td>\n",
       "    </tr>\n",
       "    <tr>\n",
       "      <th>875</th>\n",
       "      <td>2001</td>\n",
       "      <td>marzo</td>\n",
       "      <td>Textiles</td>\n",
       "      <td>286</td>\n",
       "    </tr>\n",
       "    <tr>\n",
       "      <th>876</th>\n",
       "      <td>2001</td>\n",
       "      <td>abril</td>\n",
       "      <td>Textiles</td>\n",
       "      <td>283</td>\n",
       "    </tr>\n",
       "    <tr>\n",
       "      <th>877</th>\n",
       "      <td>2001</td>\n",
       "      <td>mayo</td>\n",
       "      <td>Textiles</td>\n",
       "      <td>306</td>\n",
       "    </tr>\n",
       "  </tbody>\n",
       "</table>\n",
       "</div>"
      ],
      "text/plain": [
       "     anio      mes    sector  empleados\n",
       "873  2001    enero  Textiles        274\n",
       "874  2001  febrero  Textiles        283\n",
       "875  2001    marzo  Textiles        286\n",
       "876  2001    abril  Textiles        283\n",
       "877  2001     mayo  Textiles        306"
      ]
     },
     "metadata": {},
     "output_type": "display_data"
    },
    {
     "name": "stdout",
     "output_type": "stream",
     "text": [
      "\n",
      "Primeras filas del sector: Pesqueras\n"
     ]
    },
    {
     "data": {
      "text/html": [
       "<div>\n",
       "<style scoped>\n",
       "    .dataframe tbody tr th:only-of-type {\n",
       "        vertical-align: middle;\n",
       "    }\n",
       "\n",
       "    .dataframe tbody tr th {\n",
       "        vertical-align: top;\n",
       "    }\n",
       "\n",
       "    .dataframe thead th {\n",
       "        text-align: right;\n",
       "    }\n",
       "</style>\n",
       "<table border=\"1\" class=\"dataframe\">\n",
       "  <thead>\n",
       "    <tr style=\"text-align: right;\">\n",
       "      <th></th>\n",
       "      <th>anio</th>\n",
       "      <th>mes</th>\n",
       "      <th>sector</th>\n",
       "      <th>empleados</th>\n",
       "    </tr>\n",
       "  </thead>\n",
       "  <tbody>\n",
       "    <tr>\n",
       "      <th>1164</th>\n",
       "      <td>2001</td>\n",
       "      <td>enero</td>\n",
       "      <td>Pesqueras</td>\n",
       "      <td>353</td>\n",
       "    </tr>\n",
       "    <tr>\n",
       "      <th>1165</th>\n",
       "      <td>2001</td>\n",
       "      <td>febrero</td>\n",
       "      <td>Pesqueras</td>\n",
       "      <td>278</td>\n",
       "    </tr>\n",
       "    <tr>\n",
       "      <th>1166</th>\n",
       "      <td>2001</td>\n",
       "      <td>marzo</td>\n",
       "      <td>Pesqueras</td>\n",
       "      <td>275</td>\n",
       "    </tr>\n",
       "    <tr>\n",
       "      <th>1167</th>\n",
       "      <td>2001</td>\n",
       "      <td>abril</td>\n",
       "      <td>Pesqueras</td>\n",
       "      <td>273</td>\n",
       "    </tr>\n",
       "    <tr>\n",
       "      <th>1168</th>\n",
       "      <td>2001</td>\n",
       "      <td>mayo</td>\n",
       "      <td>Pesqueras</td>\n",
       "      <td>262</td>\n",
       "    </tr>\n",
       "  </tbody>\n",
       "</table>\n",
       "</div>"
      ],
      "text/plain": [
       "      anio      mes     sector  empleados\n",
       "1164  2001    enero  Pesqueras        353\n",
       "1165  2001  febrero  Pesqueras        278\n",
       "1166  2001    marzo  Pesqueras        275\n",
       "1167  2001    abril  Pesqueras        273\n",
       "1168  2001     mayo  Pesqueras        262"
      ]
     },
     "metadata": {},
     "output_type": "display_data"
    },
    {
     "name": "stdout",
     "output_type": "stream",
     "text": [
      "\n",
      "Primeras filas del sector: Otras\n"
     ]
    },
    {
     "data": {
      "text/html": [
       "<div>\n",
       "<style scoped>\n",
       "    .dataframe tbody tr th:only-of-type {\n",
       "        vertical-align: middle;\n",
       "    }\n",
       "\n",
       "    .dataframe tbody tr th {\n",
       "        vertical-align: top;\n",
       "    }\n",
       "\n",
       "    .dataframe thead th {\n",
       "        text-align: right;\n",
       "    }\n",
       "</style>\n",
       "<table border=\"1\" class=\"dataframe\">\n",
       "  <thead>\n",
       "    <tr style=\"text-align: right;\">\n",
       "      <th></th>\n",
       "      <th>anio</th>\n",
       "      <th>mes</th>\n",
       "      <th>sector</th>\n",
       "      <th>empleados</th>\n",
       "    </tr>\n",
       "  </thead>\n",
       "  <tbody>\n",
       "    <tr>\n",
       "      <th>1455</th>\n",
       "      <td>2001</td>\n",
       "      <td>enero</td>\n",
       "      <td>Otras</td>\n",
       "      <td>90</td>\n",
       "    </tr>\n",
       "    <tr>\n",
       "      <th>1456</th>\n",
       "      <td>2001</td>\n",
       "      <td>febrero</td>\n",
       "      <td>Otras</td>\n",
       "      <td>92</td>\n",
       "    </tr>\n",
       "    <tr>\n",
       "      <th>1457</th>\n",
       "      <td>2001</td>\n",
       "      <td>marzo</td>\n",
       "      <td>Otras</td>\n",
       "      <td>94</td>\n",
       "    </tr>\n",
       "    <tr>\n",
       "      <th>1458</th>\n",
       "      <td>2001</td>\n",
       "      <td>abril</td>\n",
       "      <td>Otras</td>\n",
       "      <td>103</td>\n",
       "    </tr>\n",
       "    <tr>\n",
       "      <th>1459</th>\n",
       "      <td>2001</td>\n",
       "      <td>mayo</td>\n",
       "      <td>Otras</td>\n",
       "      <td>107</td>\n",
       "    </tr>\n",
       "  </tbody>\n",
       "</table>\n",
       "</div>"
      ],
      "text/plain": [
       "      anio      mes sector  empleados\n",
       "1455  2001    enero  Otras         90\n",
       "1456  2001  febrero  Otras         92\n",
       "1457  2001    marzo  Otras         94\n",
       "1458  2001    abril  Otras        103\n",
       "1459  2001     mayo  Otras        107"
      ]
     },
     "metadata": {},
     "output_type": "display_data"
    }
   ],
   "source": [
    "# Muestro los primeros registros de cada sector para verificar desde qué año arranca cada uno\n",
    "for sector in df_empleados_limpio['sector'].unique():\n",
    "    print(f\"\\nPrimeras filas del sector: {sector}\")\n",
    "    display(df_empleados_limpio[df_empleados_limpio['sector'] == sector].head())"
   ]
  },
  {
   "cell_type": "code",
   "execution_count": 35,
   "id": "98da3391",
   "metadata": {},
   "outputs": [
    {
     "name": "stdout",
     "output_type": "stream",
     "text": [
      "<class 'pandas.core.frame.DataFrame'>\n",
      "RangeIndex: 1746 entries, 0 to 1745\n",
      "Data columns (total 4 columns):\n",
      " #   Column     Non-Null Count  Dtype \n",
      "---  ------     --------------  ----- \n",
      " 0   anio       1746 non-null   int32 \n",
      " 1   mes        1746 non-null   object\n",
      " 2   sector     1746 non-null   object\n",
      " 3   empleados  1746 non-null   int32 \n",
      "dtypes: int32(2), object(2)\n",
      "memory usage: 41.1+ KB\n"
     ]
    }
   ],
   "source": [
    "# Tipo de datos y cantidad de valores no nulos\n",
    "df_empleados_limpio.info()"
   ]
  },
  {
   "cell_type": "markdown",
   "id": "c40c6b37",
   "metadata": {},
   "source": [
    "## 4. Dataset de Establecimientos Industriales por Sector\n",
    "\n",
    "Este dataset contiene la cantidad de establecimientos industriales activos por sector, año y mes.  \n",
    "A partir del archivo original en formato ancho, lo transformo, normalizo y limpio para dejarlo listo para su integración con los otros datasets del proyecto."
   ]
  },
  {
   "cell_type": "markdown",
   "id": "29d296f2",
   "metadata": {},
   "source": [
    "### 4.1 Carga del archivo y selección de columnas\n",
    "\n",
    "Cargo el archivo Excel original, selecciono solo las columnas útiles y renombro los encabezados."
   ]
  },
  {
   "cell_type": "code",
   "execution_count": 36,
   "id": "95e4be12",
   "metadata": {},
   "outputs": [],
   "source": [
    "# Cargo el archivo\n",
    "archivo_estab = ruta_base + '14_3_02_Establecimientos_industriales_rama-1.xlsx'\n",
    "df_estab = pd.read_excel(archivo_estab, skiprows=3)\n",
    "\n",
    "# Corto columnas de interés\n",
    "df_estab = df_estab.iloc[:, [0, 1, 2, 3, 4, 5, 6, 7, 9]]  \n",
    "df_estab.columns = ['anio', 'mes', 'total', 'confeccionistas', 'electronicas',\n",
    "                    'plasticas', 'textiles', 'pesqueras', 'otras']"
   ]
  },
  {
   "cell_type": "markdown",
   "id": "d359669f",
   "metadata": {},
   "source": [
    "### 4.2 Relleno de valores y eliminación de filas incompletas\n",
    "\n",
    "Relleno los años faltantes y elimino las filas vacías o mal estructuradas.\n"
   ]
  },
  {
   "cell_type": "code",
   "execution_count": 37,
   "id": "ddafcee8",
   "metadata": {},
   "outputs": [],
   "source": [
    "# Convierto a numérico y reemplazo valores inválidos (como '- Cero absoluto')\n",
    "df_estab['anio'] = pd.to_numeric(df_estab['anio'], errors='coerce')\n",
    "\n",
    "# Relleno los años faltantes hacia abajo\n",
    "df_estab['anio'] = df_estab['anio'].ffill().astype(int)\n",
    "\n",
    "# Elimino filas que no tengan mes o año (completamente vacías)\n",
    "df_estab = df_estab.dropna(subset=['anio', 'mes'], how='any')"
   ]
  },
  {
   "cell_type": "markdown",
   "id": "52a9a645",
   "metadata": {},
   "source": [
    "### 4.3 Transformación a formato largo\n",
    "\n",
    "Transformo el dataset de formato ancho a largo y capitalizo los nombres de los sectores."
   ]
  },
  {
   "cell_type": "code",
   "execution_count": 38,
   "id": "de8ef772",
   "metadata": {},
   "outputs": [
    {
     "name": "stdout",
     "output_type": "stream",
     "text": [
      "Dataset de establecimientos transformado:\n"
     ]
    },
    {
     "data": {
      "text/html": [
       "<div>\n",
       "<style scoped>\n",
       "    .dataframe tbody tr th:only-of-type {\n",
       "        vertical-align: middle;\n",
       "    }\n",
       "\n",
       "    .dataframe tbody tr th {\n",
       "        vertical-align: top;\n",
       "    }\n",
       "\n",
       "    .dataframe thead th {\n",
       "        text-align: right;\n",
       "    }\n",
       "</style>\n",
       "<table border=\"1\" class=\"dataframe\">\n",
       "  <thead>\n",
       "    <tr style=\"text-align: right;\">\n",
       "      <th></th>\n",
       "      <th>anio</th>\n",
       "      <th>mes</th>\n",
       "      <th>sector</th>\n",
       "      <th>establecimientos</th>\n",
       "    </tr>\n",
       "  </thead>\n",
       "  <tbody>\n",
       "    <tr>\n",
       "      <th>0</th>\n",
       "      <td>2001</td>\n",
       "      <td>Enero</td>\n",
       "      <td>Total</td>\n",
       "      <td>50.0</td>\n",
       "    </tr>\n",
       "    <tr>\n",
       "      <th>1</th>\n",
       "      <td>2001</td>\n",
       "      <td>Febrero</td>\n",
       "      <td>Total</td>\n",
       "      <td>47.0</td>\n",
       "    </tr>\n",
       "    <tr>\n",
       "      <th>2</th>\n",
       "      <td>2001</td>\n",
       "      <td>Marzo</td>\n",
       "      <td>Total</td>\n",
       "      <td>47.0</td>\n",
       "    </tr>\n",
       "    <tr>\n",
       "      <th>3</th>\n",
       "      <td>2001</td>\n",
       "      <td>Abril</td>\n",
       "      <td>Total</td>\n",
       "      <td>47.0</td>\n",
       "    </tr>\n",
       "    <tr>\n",
       "      <th>4</th>\n",
       "      <td>2001</td>\n",
       "      <td>Mayo</td>\n",
       "      <td>Total</td>\n",
       "      <td>47.0</td>\n",
       "    </tr>\n",
       "    <tr>\n",
       "      <th>5</th>\n",
       "      <td>2001</td>\n",
       "      <td>Junio</td>\n",
       "      <td>Total</td>\n",
       "      <td>47.0</td>\n",
       "    </tr>\n",
       "    <tr>\n",
       "      <th>6</th>\n",
       "      <td>2001</td>\n",
       "      <td>Julio</td>\n",
       "      <td>Total</td>\n",
       "      <td>47.0</td>\n",
       "    </tr>\n",
       "    <tr>\n",
       "      <th>7</th>\n",
       "      <td>2001</td>\n",
       "      <td>Agosto</td>\n",
       "      <td>Total</td>\n",
       "      <td>47.0</td>\n",
       "    </tr>\n",
       "    <tr>\n",
       "      <th>8</th>\n",
       "      <td>2001</td>\n",
       "      <td>Septiembre</td>\n",
       "      <td>Total</td>\n",
       "      <td>47.0</td>\n",
       "    </tr>\n",
       "    <tr>\n",
       "      <th>9</th>\n",
       "      <td>2001</td>\n",
       "      <td>Octubre</td>\n",
       "      <td>Total</td>\n",
       "      <td>47.0</td>\n",
       "    </tr>\n",
       "    <tr>\n",
       "      <th>10</th>\n",
       "      <td>2001</td>\n",
       "      <td>Noviembre</td>\n",
       "      <td>Total</td>\n",
       "      <td>46.0</td>\n",
       "    </tr>\n",
       "    <tr>\n",
       "      <th>11</th>\n",
       "      <td>2001</td>\n",
       "      <td>Diciembre</td>\n",
       "      <td>Total</td>\n",
       "      <td>38.0</td>\n",
       "    </tr>\n",
       "    <tr>\n",
       "      <th>12</th>\n",
       "      <td>2002</td>\n",
       "      <td>enero</td>\n",
       "      <td>Total</td>\n",
       "      <td>46.0</td>\n",
       "    </tr>\n",
       "    <tr>\n",
       "      <th>13</th>\n",
       "      <td>2002</td>\n",
       "      <td>febrero</td>\n",
       "      <td>Total</td>\n",
       "      <td>45.0</td>\n",
       "    </tr>\n",
       "    <tr>\n",
       "      <th>14</th>\n",
       "      <td>2002</td>\n",
       "      <td>marzo</td>\n",
       "      <td>Total</td>\n",
       "      <td>45.0</td>\n",
       "    </tr>\n",
       "  </tbody>\n",
       "</table>\n",
       "</div>"
      ],
      "text/plain": [
       "    anio         mes sector  establecimientos\n",
       "0   2001      Enero   Total              50.0\n",
       "1   2001     Febrero  Total              47.0\n",
       "2   2001       Marzo  Total              47.0\n",
       "3   2001       Abril  Total              47.0\n",
       "4   2001        Mayo  Total              47.0\n",
       "5   2001       Junio  Total              47.0\n",
       "6   2001       Julio  Total              47.0\n",
       "7   2001      Agosto  Total              47.0\n",
       "8   2001  Septiembre  Total              47.0\n",
       "9   2001     Octubre  Total              47.0\n",
       "10  2001   Noviembre  Total              46.0\n",
       "11  2001   Diciembre  Total              38.0\n",
       "12  2002       enero  Total              46.0\n",
       "13  2002     febrero  Total              45.0\n",
       "14  2002       marzo  Total              45.0"
      ]
     },
     "metadata": {},
     "output_type": "display_data"
    }
   ],
   "source": [
    "df_estab_limpio = df_estab.melt(\n",
    "    id_vars=['anio', 'mes'],\n",
    "    var_name='sector',\n",
    "    value_name='establecimientos'\n",
    ")\n",
    "\n",
    "# Capitalizo los nombres de los sectores\n",
    "df_estab_limpio['sector'] = df_estab_limpio['sector'].str.capitalize()\n",
    "\n",
    "# Mostrar primeras filas para confirmar estructura\n",
    "print(\"Dataset de establecimientos transformado:\")\n",
    "display(df_estab_limpio.head(15))"
   ]
  },
  {
   "cell_type": "markdown",
   "id": "8954099f",
   "metadata": {},
   "source": [
    "### 4.4 Diagnóstico del dataset en formato largo\n",
    "\n",
    "Una vez transformado el dataset a formato largo y capitalizados los nombres de sector, realizo un diagnóstico inicial para detectar inconsistencias.  \n",
    "Analizo tipos de datos, presencia de valores nulos, duplicados y la distribución de valores en las columnas `anio`, `mes`, `sector` y `establecimientos`."
   ]
  },
  {
   "cell_type": "code",
   "execution_count": 39,
   "id": "6a5204ac",
   "metadata": {},
   "outputs": [
    {
     "name": "stdout",
     "output_type": "stream",
     "text": [
      "<class 'pandas.core.frame.DataFrame'>\n",
      "RangeIndex: 2037 entries, 0 to 2036\n",
      "Data columns (total 4 columns):\n",
      " #   Column            Non-Null Count  Dtype  \n",
      "---  ------            --------------  -----  \n",
      " 0   anio              2037 non-null   int32  \n",
      " 1   mes               2037 non-null   object \n",
      " 2   sector            2037 non-null   object \n",
      " 3   establecimientos  2037 non-null   float64\n",
      "dtypes: float64(1), int32(1), object(2)\n",
      "memory usage: 55.8+ KB\n"
     ]
    }
   ],
   "source": [
    "# Estructura general del DataFrame\n",
    "df_estab_limpio.info()"
   ]
  },
  {
   "cell_type": "code",
   "execution_count": 40,
   "id": "cf7bbe8e",
   "metadata": {},
   "outputs": [
    {
     "data": {
      "text/plain": [
       "anio                0\n",
       "mes                 0\n",
       "sector              0\n",
       "establecimientos    0\n",
       "dtype: int64"
      ]
     },
     "execution_count": 40,
     "metadata": {},
     "output_type": "execute_result"
    }
   ],
   "source": [
    "# Cantidad de valores nulos por columna\n",
    "df_estab_limpio.isnull().sum()"
   ]
  },
  {
   "cell_type": "code",
   "execution_count": 41,
   "id": "34c09b53",
   "metadata": {},
   "outputs": [
    {
     "data": {
      "text/plain": [
       "0"
      ]
     },
     "execution_count": 41,
     "metadata": {},
     "output_type": "execute_result"
    }
   ],
   "source": [
    "# Cantidad de registros duplicados\n",
    "df_estab_limpio.duplicated().sum()"
   ]
  },
  {
   "cell_type": "code",
   "execution_count": 42,
   "id": "ffc6f659",
   "metadata": {},
   "outputs": [
    {
     "data": {
      "text/plain": [
       "sector\n",
       "Confeccionistas    291\n",
       "Electronicas       291\n",
       "Otras              291\n",
       "Pesqueras          291\n",
       "Plasticas          291\n",
       "Textiles           291\n",
       "Total              291\n",
       "Name: count, dtype: int64"
      ]
     },
     "execution_count": 42,
     "metadata": {},
     "output_type": "execute_result"
    }
   ],
   "source": [
    "# Distribución de valores en la columna 'sector'\n",
    "df_estab_limpio['sector'].value_counts().sort_index()"
   ]
  },
  {
   "cell_type": "code",
   "execution_count": 43,
   "id": "3268dcdd",
   "metadata": {},
   "outputs": [
    {
     "data": {
      "text/plain": [
       "mes\n",
       "Abril            7\n",
       "Abril*           7\n",
       "Agosto           7\n",
       "Agosto*          7\n",
       "Diciembre       14\n",
       "Diciembre*       7\n",
       "Enero            7\n",
       "Enero*          14\n",
       "Febrero          7\n",
       "Febrero*        14\n",
       "Julio            7\n",
       "Julio*           7\n",
       "Junio            7\n",
       "Junio*           7\n",
       "Mar*             7\n",
       "Marzo            7\n",
       "Marzo*           7\n",
       "Mayo             7\n",
       "Mayo*            7\n",
       "Noviembre       14\n",
       "Noviembre*       7\n",
       "Octubre         14\n",
       "Octubre*         7\n",
       "Septiembre      14\n",
       "Septiembre*      7\n",
       "abril          140\n",
       "abril           14\n",
       "agosto         140\n",
       "agosto          14\n",
       "diciembre      140\n",
       "diciembre        7\n",
       "enero          140\n",
       "enero           14\n",
       "febrero        140\n",
       "febrero         14\n",
       "julio          140\n",
       "julio           14\n",
       "junio          140\n",
       "junio           14\n",
       "marzo          140\n",
       "marzo           14\n",
       "mayo           140\n",
       "mayo            14\n",
       "noviembre      140\n",
       "noviembre        7\n",
       "octubre        140\n",
       "octubre          7\n",
       "septiembre     140\n",
       "septiembre       7\n",
       "Name: count, dtype: int64"
      ]
     },
     "execution_count": 43,
     "metadata": {},
     "output_type": "execute_result"
    }
   ],
   "source": [
    "# Distribución de valores en la columna 'mes'\n",
    "df_estab_limpio['mes'].value_counts().sort_index()"
   ]
  },
  {
   "cell_type": "code",
   "execution_count": 44,
   "id": "9508831d",
   "metadata": {},
   "outputs": [
    {
     "data": {
      "text/plain": [
       "establecimientos\n",
       "0.0       3\n",
       "1.0      61\n",
       "2.0     126\n",
       "3.0     218\n",
       "4.0     182\n",
       "5.0      85\n",
       "6.0     188\n",
       "7.0     208\n",
       "8.0     288\n",
       "9.0      96\n",
       "16.0     27\n",
       "17.0      6\n",
       "18.0     15\n",
       "19.0     19\n",
       "20.0     46\n",
       "21.0     14\n",
       "22.0     22\n",
       "23.0     25\n",
       "24.0     28\n",
       "25.0     14\n",
       "26.0      6\n",
       "27.0     35\n",
       "28.0     34\n",
       "32.0      1\n",
       "37.0      3\n",
       "38.0      4\n",
       "39.0      4\n",
       "40.0      7\n",
       "42.0      3\n",
       "43.0      2\n",
       "44.0     14\n",
       "45.0     18\n",
       "46.0      4\n",
       "47.0     32\n",
       "48.0      8\n",
       "49.0     39\n",
       "50.0     21\n",
       "51.0      6\n",
       "52.0      5\n",
       "53.0     15\n",
       "54.0     18\n",
       "55.0     16\n",
       "56.0     36\n",
       "57.0     35\n",
       "Name: count, dtype: int64"
      ]
     },
     "execution_count": 44,
     "metadata": {},
     "output_type": "execute_result"
    }
   ],
   "source": [
    "# Distribución de valores en la columna 'establecimientos'\n",
    "df_estab_limpio['establecimientos'].value_counts().sort_index()"
   ]
  },
  {
   "cell_type": "markdown",
   "id": "9ced2db7",
   "metadata": {},
   "source": [
    "### 4.5 Limpieza de la columna `mes`\n",
    "\n",
    "Normalizo todos los valores de la columna `mes` para que sean consistentes.  \n",
    "Elimino símbolos, espacios, convierto a minúsculas y unifico los nombres según el calendario.  \n",
    "Esto asegura que luego puedan ordenarse cronológicamente sin errores."
   ]
  },
  {
   "cell_type": "code",
   "execution_count": 45,
   "id": "d22a139b",
   "metadata": {},
   "outputs": [],
   "source": [
    "# Diccionario con los nombres limpios\n",
    "meses_validos = {\n",
    "    'ene': 'enero', 'feb': 'febrero', 'mar': 'marzo',\n",
    "    'abr': 'abril', 'may': 'mayo', 'jun': 'junio',\n",
    "    'jul': 'julio', 'ago': 'agosto', 'sep': 'septiembre',\n",
    "    'oct': 'octubre', 'nov': 'noviembre', 'dic': 'diciembre'\n",
    "}\n",
    "\n",
    "# Limpieza unificada\n",
    "df_estab_limpio['mes'] = (\n",
    "    df_estab_limpio['mes']\n",
    "    .astype(str)\n",
    "    .str.lower()\n",
    "    .str.strip()\n",
    "    .str.replace(r'\\*', '', regex=True)\n",
    "    .str.replace(r'\\s+', '', regex=True)  # quita espacios intermedios\n",
    "    .map(lambda x: next((v for k, v in meses_validos.items() if x.startswith(k)), x))\n",
    ")"
   ]
  },
  {
   "cell_type": "code",
   "execution_count": 46,
   "id": "0fe6c12a",
   "metadata": {},
   "outputs": [
    {
     "name": "stdout",
     "output_type": "stream",
     "text": [
      "['abril', 'agosto', 'diciembre', 'enero', 'febrero', 'julio', 'junio', 'marzo', 'mayo', 'noviembre', 'octubre', 'septiembre']\n"
     ]
    }
   ],
   "source": [
    "# Verificación\n",
    "print(sorted(df_estab_limpio['mes'].unique()))"
   ]
  },
  {
   "cell_type": "markdown",
   "id": "ff419100",
   "metadata": {},
   "source": [
    "### 4.6 Exclusión del sector `Total`\n",
    "\n",
    "El sector `'Total'` representa una suma de todos los sectores.  \n",
    "Como ya analizamos individualmente cada sector, eliminamos este grupo agregado para no duplicar información."
   ]
  },
  {
   "cell_type": "code",
   "execution_count": 47,
   "id": "618572ba",
   "metadata": {},
   "outputs": [],
   "source": [
    "# Filtro el DataFrame, excluyendo el sector 'Total'\n",
    "df_estab_limpio = df_estab_limpio[df_estab_limpio['sector'].str.lower() != 'total']"
   ]
  },
  {
   "cell_type": "code",
   "execution_count": 48,
   "id": "9607103b",
   "metadata": {},
   "outputs": [
    {
     "name": "stdout",
     "output_type": "stream",
     "text": [
      "['Confeccionistas', 'Electronicas', 'Otras', 'Pesqueras', 'Plasticas', 'Textiles']\n"
     ]
    }
   ],
   "source": [
    "print(sorted(df_estab_limpio['sector'].unique()))\n"
   ]
  },
  {
   "cell_type": "markdown",
   "id": "9657538d",
   "metadata": {},
   "source": [
    "### 4.7 Corrección de valores anómalos en el sector `Pesqueras`\n",
    "\n",
    "En el sector `Pesqueras`, detecto valores igual a 0 en algunos años específicos.  \n",
    "Asumo que se trata de errores de carga o valores faltantes, por lo que los imputo con el promedio redondeado del mes anterior y posterior."
   ]
  },
  {
   "cell_type": "code",
   "execution_count": 49,
   "id": "69a39f64",
   "metadata": {},
   "outputs": [],
   "source": [
    "# Convierto a entero por seguridad (en caso de que no lo esté)\n",
    "df_estab_limpio['establecimientos'] = df_estab_limpio['establecimientos'].astype(int)\n",
    "\n",
    "# Reinicio el índice para evitar errores en el acceso por posición\n",
    "df_estab_limpio.reset_index(drop=True, inplace=True)\n",
    "\n",
    "# Imputo los valores 0 para Pesqueras\n",
    "for idx in df_estab_limpio[\n",
    "    (df_estab_limpio['sector'] == 'Pesqueras') & (df_estab_limpio['establecimientos'] == 0)\n",
    "].index:\n",
    "    \n",
    "    try:\n",
    "        val_ant = df_estab_limpio.loc[idx - 1, 'establecimientos']\n",
    "        val_sig = df_estab_limpio.loc[idx + 1, 'establecimientos']\n",
    "        \n",
    "        if np.isfinite(val_ant) and np.isfinite(val_sig):\n",
    "            promedio_redondeado = round((val_ant + val_sig) / 2)\n",
    "            df_estab_limpio.at[idx, 'establecimientos'] = promedio_redondeado\n",
    "    except:\n",
    "        pass"
   ]
  },
  {
   "cell_type": "code",
   "execution_count": 50,
   "id": "a272328b",
   "metadata": {},
   "outputs": [
    {
     "name": "stdout",
     "output_type": "stream",
     "text": [
      "      anio        mes     sector  establecimientos\n",
      "1175  2001  diciembre  Pesqueras                 2\n",
      "1187  2002  diciembre  Pesqueras                 2\n",
      "1211  2004  diciembre  Pesqueras                 2\n"
     ]
    }
   ],
   "source": [
    "# Verifico que ya no haya 0 en diciembre de esos años\n",
    "print(df_estab_limpio[\n",
    "    (df_estab_limpio['sector'] == 'Pesqueras') &\n",
    "    (df_estab_limpio['anio'].isin([2001, 2002, 2004])) &\n",
    "    (df_estab_limpio['mes'] == 'diciembre')\n",
    "])"
   ]
  },
  {
   "cell_type": "code",
   "execution_count": 51,
   "id": "fd601090",
   "metadata": {},
   "outputs": [
    {
     "name": "stdout",
     "output_type": "stream",
     "text": [
      "Valores unicos de establecimientos:\n",
      "[ 6  5  7  4  3 22 21 20 17 18 16 19 23 24 25 26 27 28  8  9  2  1]\n"
     ]
    }
   ],
   "source": [
    "print(\"Valores unicos de establecimientos:\")\n",
    "# Mostrar valores únicos en la columna 'establecimientos'\n",
    "print(df_estab_limpio['establecimientos'].unique())"
   ]
  },
  {
   "cell_type": "markdown",
   "id": "924dab59",
   "metadata": {},
   "source": [
    "### 4.8 Diagnóstico posterior a la limpieza\n",
    "\n",
    "Finalizada la limpieza, realizo un diagnóstico general del DataFrame para verificar su integridad.  \n",
    "Me aseguro de que no queden valores nulos o duplicados, reviso los tipos de datos y la distribución  \n",
    "de registros por sector, mes y cantidad de establecimientos.\n"
   ]
  },
  {
   "cell_type": "code",
   "execution_count": 52,
   "id": "7143bfc9",
   "metadata": {},
   "outputs": [
    {
     "name": "stdout",
     "output_type": "stream",
     "text": [
      "<class 'pandas.core.frame.DataFrame'>\n",
      "RangeIndex: 1746 entries, 0 to 1745\n",
      "Data columns (total 4 columns):\n",
      " #   Column            Non-Null Count  Dtype \n",
      "---  ------            --------------  ----- \n",
      " 0   anio              1746 non-null   int32 \n",
      " 1   mes               1746 non-null   object\n",
      " 2   sector            1746 non-null   object\n",
      " 3   establecimientos  1746 non-null   int32 \n",
      "dtypes: int32(2), object(2)\n",
      "memory usage: 41.1+ KB\n"
     ]
    }
   ],
   "source": [
    "# Revisión de estructura y tipos\n",
    "df_estab_limpio.info()"
   ]
  },
  {
   "cell_type": "code",
   "execution_count": 53,
   "id": "0b0dd0a9",
   "metadata": {},
   "outputs": [
    {
     "data": {
      "text/plain": [
       "anio                0\n",
       "mes                 0\n",
       "sector              0\n",
       "establecimientos    0\n",
       "dtype: int64"
      ]
     },
     "execution_count": 53,
     "metadata": {},
     "output_type": "execute_result"
    }
   ],
   "source": [
    "# Verificar si quedan valores nulos\n",
    "df_estab_limpio.isnull().sum()"
   ]
  },
  {
   "cell_type": "code",
   "execution_count": 54,
   "id": "bd6761f7",
   "metadata": {},
   "outputs": [
    {
     "data": {
      "text/plain": [
       "0"
      ]
     },
     "execution_count": 54,
     "metadata": {},
     "output_type": "execute_result"
    }
   ],
   "source": [
    "# Verificar si hay filas duplicadas\n",
    "df_estab_limpio.duplicated().sum()"
   ]
  },
  {
   "cell_type": "code",
   "execution_count": 55,
   "id": "6a2d5dd6",
   "metadata": {},
   "outputs": [
    {
     "data": {
      "text/plain": [
       "sector\n",
       "Confeccionistas    291\n",
       "Electronicas       291\n",
       "Otras              291\n",
       "Pesqueras          291\n",
       "Plasticas          291\n",
       "Textiles           291\n",
       "Name: count, dtype: int64"
      ]
     },
     "execution_count": 55,
     "metadata": {},
     "output_type": "execute_result"
    }
   ],
   "source": [
    "# Registros por sector\n",
    "df_estab_limpio['sector'].value_counts().sort_index()"
   ]
  },
  {
   "cell_type": "code",
   "execution_count": 56,
   "id": "b8fb371a",
   "metadata": {},
   "outputs": [
    {
     "data": {
      "text/plain": [
       "mes\n",
       "enero         150\n",
       "febrero       150\n",
       "marzo         150\n",
       "abril         144\n",
       "mayo          144\n",
       "junio         144\n",
       "julio         144\n",
       "agosto        144\n",
       "septiembre    144\n",
       "octubre       144\n",
       "noviembre     144\n",
       "diciembre     144\n",
       "Name: count, dtype: int64"
      ]
     },
     "execution_count": 56,
     "metadata": {},
     "output_type": "execute_result"
    }
   ],
   "source": [
    "# Registros por mes\n",
    "df_estab_limpio['mes'].value_counts()"
   ]
  },
  {
   "cell_type": "code",
   "execution_count": 57,
   "id": "65be2b3a",
   "metadata": {},
   "outputs": [
    {
     "name": "stdout",
     "output_type": "stream",
     "text": [
      "\n",
      "Primeras filas del sector: Confeccionistas\n"
     ]
    },
    {
     "data": {
      "text/html": [
       "<div>\n",
       "<style scoped>\n",
       "    .dataframe tbody tr th:only-of-type {\n",
       "        vertical-align: middle;\n",
       "    }\n",
       "\n",
       "    .dataframe tbody tr th {\n",
       "        vertical-align: top;\n",
       "    }\n",
       "\n",
       "    .dataframe thead th {\n",
       "        text-align: right;\n",
       "    }\n",
       "</style>\n",
       "<table border=\"1\" class=\"dataframe\">\n",
       "  <thead>\n",
       "    <tr style=\"text-align: right;\">\n",
       "      <th></th>\n",
       "      <th>anio</th>\n",
       "      <th>mes</th>\n",
       "      <th>sector</th>\n",
       "      <th>establecimientos</th>\n",
       "    </tr>\n",
       "  </thead>\n",
       "  <tbody>\n",
       "    <tr>\n",
       "      <th>0</th>\n",
       "      <td>2001</td>\n",
       "      <td>enero</td>\n",
       "      <td>Confeccionistas</td>\n",
       "      <td>6</td>\n",
       "    </tr>\n",
       "    <tr>\n",
       "      <th>1</th>\n",
       "      <td>2001</td>\n",
       "      <td>febrero</td>\n",
       "      <td>Confeccionistas</td>\n",
       "      <td>6</td>\n",
       "    </tr>\n",
       "    <tr>\n",
       "      <th>2</th>\n",
       "      <td>2001</td>\n",
       "      <td>marzo</td>\n",
       "      <td>Confeccionistas</td>\n",
       "      <td>6</td>\n",
       "    </tr>\n",
       "    <tr>\n",
       "      <th>3</th>\n",
       "      <td>2001</td>\n",
       "      <td>abril</td>\n",
       "      <td>Confeccionistas</td>\n",
       "      <td>6</td>\n",
       "    </tr>\n",
       "    <tr>\n",
       "      <th>4</th>\n",
       "      <td>2001</td>\n",
       "      <td>mayo</td>\n",
       "      <td>Confeccionistas</td>\n",
       "      <td>6</td>\n",
       "    </tr>\n",
       "  </tbody>\n",
       "</table>\n",
       "</div>"
      ],
      "text/plain": [
       "   anio      mes           sector  establecimientos\n",
       "0  2001    enero  Confeccionistas                 6\n",
       "1  2001  febrero  Confeccionistas                 6\n",
       "2  2001    marzo  Confeccionistas                 6\n",
       "3  2001    abril  Confeccionistas                 6\n",
       "4  2001     mayo  Confeccionistas                 6"
      ]
     },
     "metadata": {},
     "output_type": "display_data"
    },
    {
     "name": "stdout",
     "output_type": "stream",
     "text": [
      "\n",
      "Primeras filas del sector: Electronicas\n"
     ]
    },
    {
     "data": {
      "text/html": [
       "<div>\n",
       "<style scoped>\n",
       "    .dataframe tbody tr th:only-of-type {\n",
       "        vertical-align: middle;\n",
       "    }\n",
       "\n",
       "    .dataframe tbody tr th {\n",
       "        vertical-align: top;\n",
       "    }\n",
       "\n",
       "    .dataframe thead th {\n",
       "        text-align: right;\n",
       "    }\n",
       "</style>\n",
       "<table border=\"1\" class=\"dataframe\">\n",
       "  <thead>\n",
       "    <tr style=\"text-align: right;\">\n",
       "      <th></th>\n",
       "      <th>anio</th>\n",
       "      <th>mes</th>\n",
       "      <th>sector</th>\n",
       "      <th>establecimientos</th>\n",
       "    </tr>\n",
       "  </thead>\n",
       "  <tbody>\n",
       "    <tr>\n",
       "      <th>291</th>\n",
       "      <td>2001</td>\n",
       "      <td>enero</td>\n",
       "      <td>Electronicas</td>\n",
       "      <td>22</td>\n",
       "    </tr>\n",
       "    <tr>\n",
       "      <th>292</th>\n",
       "      <td>2001</td>\n",
       "      <td>febrero</td>\n",
       "      <td>Electronicas</td>\n",
       "      <td>21</td>\n",
       "    </tr>\n",
       "    <tr>\n",
       "      <th>293</th>\n",
       "      <td>2001</td>\n",
       "      <td>marzo</td>\n",
       "      <td>Electronicas</td>\n",
       "      <td>21</td>\n",
       "    </tr>\n",
       "    <tr>\n",
       "      <th>294</th>\n",
       "      <td>2001</td>\n",
       "      <td>abril</td>\n",
       "      <td>Electronicas</td>\n",
       "      <td>20</td>\n",
       "    </tr>\n",
       "    <tr>\n",
       "      <th>295</th>\n",
       "      <td>2001</td>\n",
       "      <td>mayo</td>\n",
       "      <td>Electronicas</td>\n",
       "      <td>20</td>\n",
       "    </tr>\n",
       "  </tbody>\n",
       "</table>\n",
       "</div>"
      ],
      "text/plain": [
       "     anio      mes        sector  establecimientos\n",
       "291  2001    enero  Electronicas                22\n",
       "292  2001  febrero  Electronicas                21\n",
       "293  2001    marzo  Electronicas                21\n",
       "294  2001    abril  Electronicas                20\n",
       "295  2001     mayo  Electronicas                20"
      ]
     },
     "metadata": {},
     "output_type": "display_data"
    },
    {
     "name": "stdout",
     "output_type": "stream",
     "text": [
      "\n",
      "Primeras filas del sector: Plasticas\n"
     ]
    },
    {
     "data": {
      "text/html": [
       "<div>\n",
       "<style scoped>\n",
       "    .dataframe tbody tr th:only-of-type {\n",
       "        vertical-align: middle;\n",
       "    }\n",
       "\n",
       "    .dataframe tbody tr th {\n",
       "        vertical-align: top;\n",
       "    }\n",
       "\n",
       "    .dataframe thead th {\n",
       "        text-align: right;\n",
       "    }\n",
       "</style>\n",
       "<table border=\"1\" class=\"dataframe\">\n",
       "  <thead>\n",
       "    <tr style=\"text-align: right;\">\n",
       "      <th></th>\n",
       "      <th>anio</th>\n",
       "      <th>mes</th>\n",
       "      <th>sector</th>\n",
       "      <th>establecimientos</th>\n",
       "    </tr>\n",
       "  </thead>\n",
       "  <tbody>\n",
       "    <tr>\n",
       "      <th>582</th>\n",
       "      <td>2001</td>\n",
       "      <td>enero</td>\n",
       "      <td>Plasticas</td>\n",
       "      <td>8</td>\n",
       "    </tr>\n",
       "    <tr>\n",
       "      <th>583</th>\n",
       "      <td>2001</td>\n",
       "      <td>febrero</td>\n",
       "      <td>Plasticas</td>\n",
       "      <td>7</td>\n",
       "    </tr>\n",
       "    <tr>\n",
       "      <th>584</th>\n",
       "      <td>2001</td>\n",
       "      <td>marzo</td>\n",
       "      <td>Plasticas</td>\n",
       "      <td>7</td>\n",
       "    </tr>\n",
       "    <tr>\n",
       "      <th>585</th>\n",
       "      <td>2001</td>\n",
       "      <td>abril</td>\n",
       "      <td>Plasticas</td>\n",
       "      <td>8</td>\n",
       "    </tr>\n",
       "    <tr>\n",
       "      <th>586</th>\n",
       "      <td>2001</td>\n",
       "      <td>mayo</td>\n",
       "      <td>Plasticas</td>\n",
       "      <td>8</td>\n",
       "    </tr>\n",
       "  </tbody>\n",
       "</table>\n",
       "</div>"
      ],
      "text/plain": [
       "     anio      mes     sector  establecimientos\n",
       "582  2001    enero  Plasticas                 8\n",
       "583  2001  febrero  Plasticas                 7\n",
       "584  2001    marzo  Plasticas                 7\n",
       "585  2001    abril  Plasticas                 8\n",
       "586  2001     mayo  Plasticas                 8"
      ]
     },
     "metadata": {},
     "output_type": "display_data"
    },
    {
     "name": "stdout",
     "output_type": "stream",
     "text": [
      "\n",
      "Primeras filas del sector: Textiles\n"
     ]
    },
    {
     "data": {
      "text/html": [
       "<div>\n",
       "<style scoped>\n",
       "    .dataframe tbody tr th:only-of-type {\n",
       "        vertical-align: middle;\n",
       "    }\n",
       "\n",
       "    .dataframe tbody tr th {\n",
       "        vertical-align: top;\n",
       "    }\n",
       "\n",
       "    .dataframe thead th {\n",
       "        text-align: right;\n",
       "    }\n",
       "</style>\n",
       "<table border=\"1\" class=\"dataframe\">\n",
       "  <thead>\n",
       "    <tr style=\"text-align: right;\">\n",
       "      <th></th>\n",
       "      <th>anio</th>\n",
       "      <th>mes</th>\n",
       "      <th>sector</th>\n",
       "      <th>establecimientos</th>\n",
       "    </tr>\n",
       "  </thead>\n",
       "  <tbody>\n",
       "    <tr>\n",
       "      <th>873</th>\n",
       "      <td>2001</td>\n",
       "      <td>enero</td>\n",
       "      <td>Textiles</td>\n",
       "      <td>8</td>\n",
       "    </tr>\n",
       "    <tr>\n",
       "      <th>874</th>\n",
       "      <td>2001</td>\n",
       "      <td>febrero</td>\n",
       "      <td>Textiles</td>\n",
       "      <td>8</td>\n",
       "    </tr>\n",
       "    <tr>\n",
       "      <th>875</th>\n",
       "      <td>2001</td>\n",
       "      <td>marzo</td>\n",
       "      <td>Textiles</td>\n",
       "      <td>8</td>\n",
       "    </tr>\n",
       "    <tr>\n",
       "      <th>876</th>\n",
       "      <td>2001</td>\n",
       "      <td>abril</td>\n",
       "      <td>Textiles</td>\n",
       "      <td>8</td>\n",
       "    </tr>\n",
       "    <tr>\n",
       "      <th>877</th>\n",
       "      <td>2001</td>\n",
       "      <td>mayo</td>\n",
       "      <td>Textiles</td>\n",
       "      <td>8</td>\n",
       "    </tr>\n",
       "  </tbody>\n",
       "</table>\n",
       "</div>"
      ],
      "text/plain": [
       "     anio      mes    sector  establecimientos\n",
       "873  2001    enero  Textiles                 8\n",
       "874  2001  febrero  Textiles                 8\n",
       "875  2001    marzo  Textiles                 8\n",
       "876  2001    abril  Textiles                 8\n",
       "877  2001     mayo  Textiles                 8"
      ]
     },
     "metadata": {},
     "output_type": "display_data"
    },
    {
     "name": "stdout",
     "output_type": "stream",
     "text": [
      "\n",
      "Primeras filas del sector: Pesqueras\n"
     ]
    },
    {
     "data": {
      "text/html": [
       "<div>\n",
       "<style scoped>\n",
       "    .dataframe tbody tr th:only-of-type {\n",
       "        vertical-align: middle;\n",
       "    }\n",
       "\n",
       "    .dataframe tbody tr th {\n",
       "        vertical-align: top;\n",
       "    }\n",
       "\n",
       "    .dataframe thead th {\n",
       "        text-align: right;\n",
       "    }\n",
       "</style>\n",
       "<table border=\"1\" class=\"dataframe\">\n",
       "  <thead>\n",
       "    <tr style=\"text-align: right;\">\n",
       "      <th></th>\n",
       "      <th>anio</th>\n",
       "      <th>mes</th>\n",
       "      <th>sector</th>\n",
       "      <th>establecimientos</th>\n",
       "    </tr>\n",
       "  </thead>\n",
       "  <tbody>\n",
       "    <tr>\n",
       "      <th>1164</th>\n",
       "      <td>2001</td>\n",
       "      <td>enero</td>\n",
       "      <td>Pesqueras</td>\n",
       "      <td>2</td>\n",
       "    </tr>\n",
       "    <tr>\n",
       "      <th>1165</th>\n",
       "      <td>2001</td>\n",
       "      <td>febrero</td>\n",
       "      <td>Pesqueras</td>\n",
       "      <td>1</td>\n",
       "    </tr>\n",
       "    <tr>\n",
       "      <th>1166</th>\n",
       "      <td>2001</td>\n",
       "      <td>marzo</td>\n",
       "      <td>Pesqueras</td>\n",
       "      <td>1</td>\n",
       "    </tr>\n",
       "    <tr>\n",
       "      <th>1167</th>\n",
       "      <td>2001</td>\n",
       "      <td>abril</td>\n",
       "      <td>Pesqueras</td>\n",
       "      <td>1</td>\n",
       "    </tr>\n",
       "    <tr>\n",
       "      <th>1168</th>\n",
       "      <td>2001</td>\n",
       "      <td>mayo</td>\n",
       "      <td>Pesqueras</td>\n",
       "      <td>1</td>\n",
       "    </tr>\n",
       "  </tbody>\n",
       "</table>\n",
       "</div>"
      ],
      "text/plain": [
       "      anio      mes     sector  establecimientos\n",
       "1164  2001    enero  Pesqueras                 2\n",
       "1165  2001  febrero  Pesqueras                 1\n",
       "1166  2001    marzo  Pesqueras                 1\n",
       "1167  2001    abril  Pesqueras                 1\n",
       "1168  2001     mayo  Pesqueras                 1"
      ]
     },
     "metadata": {},
     "output_type": "display_data"
    },
    {
     "name": "stdout",
     "output_type": "stream",
     "text": [
      "\n",
      "Primeras filas del sector: Otras\n"
     ]
    },
    {
     "data": {
      "text/html": [
       "<div>\n",
       "<style scoped>\n",
       "    .dataframe tbody tr th:only-of-type {\n",
       "        vertical-align: middle;\n",
       "    }\n",
       "\n",
       "    .dataframe tbody tr th {\n",
       "        vertical-align: top;\n",
       "    }\n",
       "\n",
       "    .dataframe thead th {\n",
       "        text-align: right;\n",
       "    }\n",
       "</style>\n",
       "<table border=\"1\" class=\"dataframe\">\n",
       "  <thead>\n",
       "    <tr style=\"text-align: right;\">\n",
       "      <th></th>\n",
       "      <th>anio</th>\n",
       "      <th>mes</th>\n",
       "      <th>sector</th>\n",
       "      <th>establecimientos</th>\n",
       "    </tr>\n",
       "  </thead>\n",
       "  <tbody>\n",
       "    <tr>\n",
       "      <th>1455</th>\n",
       "      <td>2001</td>\n",
       "      <td>enero</td>\n",
       "      <td>Otras</td>\n",
       "      <td>4</td>\n",
       "    </tr>\n",
       "    <tr>\n",
       "      <th>1456</th>\n",
       "      <td>2001</td>\n",
       "      <td>febrero</td>\n",
       "      <td>Otras</td>\n",
       "      <td>4</td>\n",
       "    </tr>\n",
       "    <tr>\n",
       "      <th>1457</th>\n",
       "      <td>2001</td>\n",
       "      <td>marzo</td>\n",
       "      <td>Otras</td>\n",
       "      <td>4</td>\n",
       "    </tr>\n",
       "    <tr>\n",
       "      <th>1458</th>\n",
       "      <td>2001</td>\n",
       "      <td>abril</td>\n",
       "      <td>Otras</td>\n",
       "      <td>4</td>\n",
       "    </tr>\n",
       "    <tr>\n",
       "      <th>1459</th>\n",
       "      <td>2001</td>\n",
       "      <td>mayo</td>\n",
       "      <td>Otras</td>\n",
       "      <td>4</td>\n",
       "    </tr>\n",
       "  </tbody>\n",
       "</table>\n",
       "</div>"
      ],
      "text/plain": [
       "      anio      mes sector  establecimientos\n",
       "1455  2001    enero  Otras                 4\n",
       "1456  2001  febrero  Otras                 4\n",
       "1457  2001    marzo  Otras                 4\n",
       "1458  2001    abril  Otras                 4\n",
       "1459  2001     mayo  Otras                 4"
      ]
     },
     "metadata": {},
     "output_type": "display_data"
    }
   ],
   "source": [
    "# Muestro los primeros registros de cada sector para verificar desde qué año arranca cada uno\n",
    "for sector in df_estab_limpio['sector'].unique():\n",
    "    print(f\"\\nPrimeras filas del sector: {sector}\")\n",
    "    display(df_estab_limpio[df_estab_limpio['sector'] == sector].head())"
   ]
  },
  {
   "cell_type": "markdown",
   "id": "ae544f2d",
   "metadata": {},
   "source": [
    "## 5. Verificación de correcta transformación de datasets\n",
    "\n",
    "Antes de realizar la unión de los tres datasets, realizo una verificación cruzada para asegurarme de que todos tienen la misma estructura de claves (`anio`, `mes`, `sector`)  \n",
    "y que sus registros son compatibles entre sí. Esto me permite anticipar errores o pérdidas de información al hacer los `merge`."
   ]
  },
  {
   "cell_type": "code",
   "execution_count": 58,
   "id": "3344db25",
   "metadata": {},
   "outputs": [
    {
     "name": "stdout",
     "output_type": "stream",
     "text": [
      "\n",
      "Verificando Producción:\n",
      "Columnas: ['anio', 'mes', 'sector', 'Produccion']\n",
      "\n",
      "Estructura:\n",
      "<class 'pandas.core.frame.DataFrame'>\n",
      "RangeIndex: 881 entries, 0 to 880\n",
      "Data columns (total 4 columns):\n",
      " #   Column      Non-Null Count  Dtype \n",
      "---  ------      --------------  ----- \n",
      " 0   anio        881 non-null    int32 \n",
      " 1   mes         881 non-null    object\n",
      " 2   sector      881 non-null    object\n",
      " 3   Produccion  881 non-null    int32 \n",
      "dtypes: int32(2), object(2)\n",
      "memory usage: 20.8+ KB\n",
      "None\n",
      "\n",
      "¿Nulos por columna?\n",
      "anio          0\n",
      "mes           0\n",
      "sector        0\n",
      "Produccion    0\n",
      "dtype: int64\n",
      "\n",
      "Meses únicos: ['abril', 'agosto', 'diciembre', 'enero', 'febrero', 'julio', 'junio', 'marzo', 'mayo', 'noviembre', 'octubre', 'septiembre']\n",
      "Sectores únicos: ['Confeccionista', 'Electronica', 'Otros', 'Pesquera', 'Plastica', 'Textil']\n",
      "\n",
      "Preview:\n"
     ]
    },
    {
     "data": {
      "text/html": [
       "<div>\n",
       "<style scoped>\n",
       "    .dataframe tbody tr th:only-of-type {\n",
       "        vertical-align: middle;\n",
       "    }\n",
       "\n",
       "    .dataframe tbody tr th {\n",
       "        vertical-align: top;\n",
       "    }\n",
       "\n",
       "    .dataframe thead th {\n",
       "        text-align: right;\n",
       "    }\n",
       "</style>\n",
       "<table border=\"1\" class=\"dataframe\">\n",
       "  <thead>\n",
       "    <tr style=\"text-align: right;\">\n",
       "      <th></th>\n",
       "      <th>anio</th>\n",
       "      <th>mes</th>\n",
       "      <th>sector</th>\n",
       "      <th>Produccion</th>\n",
       "    </tr>\n",
       "  </thead>\n",
       "  <tbody>\n",
       "    <tr>\n",
       "      <th>0</th>\n",
       "      <td>2013</td>\n",
       "      <td>enero</td>\n",
       "      <td>Confeccionista</td>\n",
       "      <td>219953</td>\n",
       "    </tr>\n",
       "    <tr>\n",
       "      <th>1</th>\n",
       "      <td>2013</td>\n",
       "      <td>febrero</td>\n",
       "      <td>Confeccionista</td>\n",
       "      <td>478428</td>\n",
       "    </tr>\n",
       "    <tr>\n",
       "      <th>2</th>\n",
       "      <td>2013</td>\n",
       "      <td>marzo</td>\n",
       "      <td>Confeccionista</td>\n",
       "      <td>455248</td>\n",
       "    </tr>\n",
       "  </tbody>\n",
       "</table>\n",
       "</div>"
      ],
      "text/plain": [
       "   anio      mes          sector  Produccion\n",
       "0  2013    enero  Confeccionista      219953\n",
       "1  2013  febrero  Confeccionista      478428\n",
       "2  2013    marzo  Confeccionista      455248"
      ]
     },
     "metadata": {},
     "output_type": "display_data"
    },
    {
     "name": "stdout",
     "output_type": "stream",
     "text": [
      "\n",
      "Verificando Empleados:\n",
      "Columnas: ['anio', 'mes', 'sector', 'empleados']\n",
      "\n",
      "Estructura:\n",
      "<class 'pandas.core.frame.DataFrame'>\n",
      "RangeIndex: 1746 entries, 0 to 1745\n",
      "Data columns (total 4 columns):\n",
      " #   Column     Non-Null Count  Dtype \n",
      "---  ------     --------------  ----- \n",
      " 0   anio       1746 non-null   int32 \n",
      " 1   mes        1746 non-null   object\n",
      " 2   sector     1746 non-null   object\n",
      " 3   empleados  1746 non-null   int32 \n",
      "dtypes: int32(2), object(2)\n",
      "memory usage: 41.1+ KB\n",
      "None\n",
      "\n",
      "¿Nulos por columna?\n",
      "anio         0\n",
      "mes          0\n",
      "sector       0\n",
      "empleados    0\n",
      "dtype: int64\n",
      "\n",
      "Meses únicos: ['abril', 'agosto', 'diciembre', 'enero', 'febrero', 'julio', 'junio', 'marzo', 'mayo', 'noviembre', 'octubre', 'septiembre']\n",
      "Sectores únicos: ['Confeccionista', 'Electrónicas', 'Otras', 'Pesqueras', 'Plásticas', 'Textiles']\n",
      "\n",
      "Preview:\n"
     ]
    },
    {
     "data": {
      "text/html": [
       "<div>\n",
       "<style scoped>\n",
       "    .dataframe tbody tr th:only-of-type {\n",
       "        vertical-align: middle;\n",
       "    }\n",
       "\n",
       "    .dataframe tbody tr th {\n",
       "        vertical-align: top;\n",
       "    }\n",
       "\n",
       "    .dataframe thead th {\n",
       "        text-align: right;\n",
       "    }\n",
       "</style>\n",
       "<table border=\"1\" class=\"dataframe\">\n",
       "  <thead>\n",
       "    <tr style=\"text-align: right;\">\n",
       "      <th></th>\n",
       "      <th>anio</th>\n",
       "      <th>mes</th>\n",
       "      <th>sector</th>\n",
       "      <th>empleados</th>\n",
       "    </tr>\n",
       "  </thead>\n",
       "  <tbody>\n",
       "    <tr>\n",
       "      <th>0</th>\n",
       "      <td>2001</td>\n",
       "      <td>enero</td>\n",
       "      <td>Confeccionista</td>\n",
       "      <td>326</td>\n",
       "    </tr>\n",
       "    <tr>\n",
       "      <th>1</th>\n",
       "      <td>2001</td>\n",
       "      <td>febrero</td>\n",
       "      <td>Confeccionista</td>\n",
       "      <td>323</td>\n",
       "    </tr>\n",
       "    <tr>\n",
       "      <th>2</th>\n",
       "      <td>2001</td>\n",
       "      <td>marzo</td>\n",
       "      <td>Confeccionista</td>\n",
       "      <td>333</td>\n",
       "    </tr>\n",
       "  </tbody>\n",
       "</table>\n",
       "</div>"
      ],
      "text/plain": [
       "   anio      mes          sector  empleados\n",
       "0  2001    enero  Confeccionista        326\n",
       "1  2001  febrero  Confeccionista        323\n",
       "2  2001    marzo  Confeccionista        333"
      ]
     },
     "metadata": {},
     "output_type": "display_data"
    },
    {
     "name": "stdout",
     "output_type": "stream",
     "text": [
      "\n",
      "Verificando Establecimientos:\n",
      "Columnas: ['anio', 'mes', 'sector', 'establecimientos']\n",
      "\n",
      "Estructura:\n",
      "<class 'pandas.core.frame.DataFrame'>\n",
      "RangeIndex: 1746 entries, 0 to 1745\n",
      "Data columns (total 4 columns):\n",
      " #   Column            Non-Null Count  Dtype \n",
      "---  ------            --------------  ----- \n",
      " 0   anio              1746 non-null   int32 \n",
      " 1   mes               1746 non-null   object\n",
      " 2   sector            1746 non-null   object\n",
      " 3   establecimientos  1746 non-null   int32 \n",
      "dtypes: int32(2), object(2)\n",
      "memory usage: 41.1+ KB\n",
      "None\n",
      "\n",
      "¿Nulos por columna?\n",
      "anio                0\n",
      "mes                 0\n",
      "sector              0\n",
      "establecimientos    0\n",
      "dtype: int64\n",
      "\n",
      "Meses únicos: ['abril', 'agosto', 'diciembre', 'enero', 'febrero', 'julio', 'junio', 'marzo', 'mayo', 'noviembre', 'octubre', 'septiembre']\n",
      "Sectores únicos: ['Confeccionistas', 'Electronicas', 'Otras', 'Pesqueras', 'Plasticas', 'Textiles']\n",
      "\n",
      "Preview:\n"
     ]
    },
    {
     "data": {
      "text/html": [
       "<div>\n",
       "<style scoped>\n",
       "    .dataframe tbody tr th:only-of-type {\n",
       "        vertical-align: middle;\n",
       "    }\n",
       "\n",
       "    .dataframe tbody tr th {\n",
       "        vertical-align: top;\n",
       "    }\n",
       "\n",
       "    .dataframe thead th {\n",
       "        text-align: right;\n",
       "    }\n",
       "</style>\n",
       "<table border=\"1\" class=\"dataframe\">\n",
       "  <thead>\n",
       "    <tr style=\"text-align: right;\">\n",
       "      <th></th>\n",
       "      <th>anio</th>\n",
       "      <th>mes</th>\n",
       "      <th>sector</th>\n",
       "      <th>establecimientos</th>\n",
       "    </tr>\n",
       "  </thead>\n",
       "  <tbody>\n",
       "    <tr>\n",
       "      <th>0</th>\n",
       "      <td>2001</td>\n",
       "      <td>enero</td>\n",
       "      <td>Confeccionistas</td>\n",
       "      <td>6</td>\n",
       "    </tr>\n",
       "    <tr>\n",
       "      <th>1</th>\n",
       "      <td>2001</td>\n",
       "      <td>febrero</td>\n",
       "      <td>Confeccionistas</td>\n",
       "      <td>6</td>\n",
       "    </tr>\n",
       "    <tr>\n",
       "      <th>2</th>\n",
       "      <td>2001</td>\n",
       "      <td>marzo</td>\n",
       "      <td>Confeccionistas</td>\n",
       "      <td>6</td>\n",
       "    </tr>\n",
       "  </tbody>\n",
       "</table>\n",
       "</div>"
      ],
      "text/plain": [
       "   anio      mes           sector  establecimientos\n",
       "0  2001    enero  Confeccionistas                 6\n",
       "1  2001  febrero  Confeccionistas                 6\n",
       "2  2001    marzo  Confeccionistas                 6"
      ]
     },
     "metadata": {},
     "output_type": "display_data"
    }
   ],
   "source": [
    "# Función para revisar cualquier dataframe\n",
    "def verificar_dataframe(df, nombre, valor_col):\n",
    "    print(f\"\\nVerificando {nombre}:\")\n",
    "    print(f\"Columnas: {df.columns.tolist()}\")\n",
    "\n",
    "    # Revisión de estructura y tipos\n",
    "    print(\"\\nEstructura:\")\n",
    "    print(df.info())\n",
    "\n",
    "    # Nulos\n",
    "    print(\"\\n¿Nulos por columna?\")\n",
    "    print(df.isna().sum())\n",
    "\n",
    "    # Valores únicos\n",
    "    print(\"\\nMeses únicos:\", sorted(df['mes'].unique()))\n",
    "    print(\"Sectores únicos:\", sorted(df['sector'].unique()))\n",
    "\n",
    "    # Ejemplo de filas\n",
    "    print(\"\\nPreview:\")\n",
    "    display(df.head(3))\n",
    "\n",
    "# Llamadas por dataset\n",
    "verificar_dataframe(df_produccion_total, \"Producción\", \"Produccion\")\n",
    "verificar_dataframe(df_empleados_limpio, \"Empleados\", \"empleados\")\n",
    "verificar_dataframe(df_estab_limpio, \"Establecimientos\", \"establecimientos\")\n"
   ]
  },
  {
   "cell_type": "code",
   "execution_count": 59,
   "id": "7769d949",
   "metadata": {},
   "outputs": [
    {
     "name": "stdout",
     "output_type": "stream",
     "text": [
      "['Confeccionista', 'Electrónicas', 'Otras', 'Pesqueras', 'Plásticas', 'Textiles']\n",
      "['Confeccionistas', 'Electronicas', 'Otras', 'Pesqueras', 'Plasticas', 'Textiles']\n",
      "['Confeccionista', 'Electronica', 'Otros', 'Pesquera', 'Plastica', 'Textil']\n"
     ]
    }
   ],
   "source": [
    "print(sorted(df_empleados_limpio['sector'].unique()))\n",
    "print(sorted(df_estab_limpio['sector'].unique()))\n",
    "print(sorted(df_produccion_total['sector'].unique()))"
   ]
  },
  {
   "cell_type": "code",
   "execution_count": 60,
   "id": "1cea0a4d",
   "metadata": {},
   "outputs": [],
   "source": [
    "# Reemplazo y unifico los nombres de los sectores en los tres dataframes\n",
    "mapa_sectores = {\n",
    "    'Confeccionista': 'Confeccionista',\n",
    "    'Confeccionistas': 'Confeccionista',\n",
    "    'Electrónica': 'Electronica',\n",
    "    'Electrónicas': 'Electronica',\n",
    "    'Electronicas': 'Electronica',\n",
    "    'Pesquera': 'Pesquera',\n",
    "    'Pesqueras': 'Pesquera',\n",
    "    'Plástica': 'Plastica',\n",
    "    'Plásticas': 'Plastica',\n",
    "    'Plasticas': 'Plastica',\n",
    "    'Textil': 'Textil',\n",
    "    'Textiles': 'Textil',\n",
    "    'Otro': 'Otros',\n",
    "    'Otros': 'Otros',\n",
    "    'Otras': 'Otros'\n",
    "}\n",
    "\n",
    "for df in [df_produccion_total, df_empleados_limpio, df_estab_limpio]:\n",
    "    df['sector'] = df['sector'].replace(mapa_sectores)\n",
    "\n"
   ]
  },
  {
   "cell_type": "code",
   "execution_count": 61,
   "id": "dbd0b16e",
   "metadata": {},
   "outputs": [
    {
     "name": "stdout",
     "output_type": "stream",
     "text": [
      "['Confeccionista', 'Electronica', 'Otros', 'Pesquera', 'Plastica', 'Textil']\n",
      "['Confeccionista', 'Electronica', 'Otros', 'Pesquera', 'Plastica', 'Textil']\n",
      "['Confeccionista', 'Electronica', 'Otros', 'Pesquera', 'Plastica', 'Textil']\n"
     ]
    }
   ],
   "source": [
    "print(sorted(df_empleados_limpio['sector'].unique()))\n",
    "print(sorted(df_estab_limpio['sector'].unique()))\n",
    "print(sorted(df_produccion_total['sector'].unique()))"
   ]
  },
  {
   "cell_type": "markdown",
   "id": "1a4e5716",
   "metadata": {},
   "source": [
    "## 6. Unificación de los tres datasets\n",
    "\n",
    "Luego de normalizar y verificar la integridad de los tres datasets (`producción`, `empleados` y `establecimientos`), realizo la unión final utilizando las columnas clave: `anio`, `mes` y `sector`.\n",
    "\n",
    "En lugar de restringir la unión a los registros que aparecen en los tres datasets (`how='inner'`), utilizo `how='outer'` para conservar el historial completo, incluyendo los registros que aún no tienen valores de producción.  \n",
    "\n",
    "Esta decisión me permite posteriormente separar los registros en dos conjuntos:\n",
    "- Uno con información completa para el entrenamiento del modelo.\n",
    "- Otro con valores faltantes en producción, que se utilizarán como casos de testeo o predicción futura.\n"
   ]
  },
  {
   "cell_type": "code",
   "execution_count": 62,
   "id": "adfd1a06",
   "metadata": {},
   "outputs": [],
   "source": [
    "# Unimos los datasets por anio, mes y sector\n",
    "df_unificado = df_produccion_total.merge(\n",
    "    df_empleados_limpio, on=['anio', 'mes', 'sector'], how='outer'\n",
    ").merge(\n",
    "    df_estab_limpio, on=['anio', 'mes', 'sector'], how='outer'\n",
    ")"
   ]
  },
  {
   "cell_type": "code",
   "execution_count": 64,
   "id": "8cb6cd6a",
   "metadata": {},
   "outputs": [
    {
     "name": "stdout",
     "output_type": "stream",
     "text": [
      "Dataset unificado:\n"
     ]
    },
    {
     "data": {
      "text/html": [
       "<div>\n",
       "<style scoped>\n",
       "    .dataframe tbody tr th:only-of-type {\n",
       "        vertical-align: middle;\n",
       "    }\n",
       "\n",
       "    .dataframe tbody tr th {\n",
       "        vertical-align: top;\n",
       "    }\n",
       "\n",
       "    .dataframe thead th {\n",
       "        text-align: right;\n",
       "    }\n",
       "</style>\n",
       "<table border=\"1\" class=\"dataframe\">\n",
       "  <thead>\n",
       "    <tr style=\"text-align: right;\">\n",
       "      <th></th>\n",
       "      <th>anio</th>\n",
       "      <th>mes</th>\n",
       "      <th>sector</th>\n",
       "      <th>Produccion</th>\n",
       "      <th>empleados</th>\n",
       "      <th>establecimientos</th>\n",
       "    </tr>\n",
       "  </thead>\n",
       "  <tbody>\n",
       "    <tr>\n",
       "      <th>0</th>\n",
       "      <td>2001</td>\n",
       "      <td>abril</td>\n",
       "      <td>Confeccionista</td>\n",
       "      <td>NaN</td>\n",
       "      <td>337</td>\n",
       "      <td>6</td>\n",
       "    </tr>\n",
       "    <tr>\n",
       "      <th>1</th>\n",
       "      <td>2001</td>\n",
       "      <td>abril</td>\n",
       "      <td>Electronica</td>\n",
       "      <td>NaN</td>\n",
       "      <td>2249</td>\n",
       "      <td>20</td>\n",
       "    </tr>\n",
       "    <tr>\n",
       "      <th>2</th>\n",
       "      <td>2001</td>\n",
       "      <td>abril</td>\n",
       "      <td>Otros</td>\n",
       "      <td>NaN</td>\n",
       "      <td>103</td>\n",
       "      <td>4</td>\n",
       "    </tr>\n",
       "    <tr>\n",
       "      <th>3</th>\n",
       "      <td>2001</td>\n",
       "      <td>abril</td>\n",
       "      <td>Pesquera</td>\n",
       "      <td>NaN</td>\n",
       "      <td>273</td>\n",
       "      <td>1</td>\n",
       "    </tr>\n",
       "    <tr>\n",
       "      <th>4</th>\n",
       "      <td>2001</td>\n",
       "      <td>abril</td>\n",
       "      <td>Plastica</td>\n",
       "      <td>NaN</td>\n",
       "      <td>289</td>\n",
       "      <td>8</td>\n",
       "    </tr>\n",
       "    <tr>\n",
       "      <th>5</th>\n",
       "      <td>2001</td>\n",
       "      <td>abril</td>\n",
       "      <td>Textil</td>\n",
       "      <td>NaN</td>\n",
       "      <td>283</td>\n",
       "      <td>8</td>\n",
       "    </tr>\n",
       "    <tr>\n",
       "      <th>6</th>\n",
       "      <td>2001</td>\n",
       "      <td>agosto</td>\n",
       "      <td>Confeccionista</td>\n",
       "      <td>NaN</td>\n",
       "      <td>351</td>\n",
       "      <td>6</td>\n",
       "    </tr>\n",
       "    <tr>\n",
       "      <th>7</th>\n",
       "      <td>2001</td>\n",
       "      <td>agosto</td>\n",
       "      <td>Electronica</td>\n",
       "      <td>NaN</td>\n",
       "      <td>2637</td>\n",
       "      <td>20</td>\n",
       "    </tr>\n",
       "    <tr>\n",
       "      <th>8</th>\n",
       "      <td>2001</td>\n",
       "      <td>agosto</td>\n",
       "      <td>Otros</td>\n",
       "      <td>NaN</td>\n",
       "      <td>113</td>\n",
       "      <td>4</td>\n",
       "    </tr>\n",
       "    <tr>\n",
       "      <th>9</th>\n",
       "      <td>2001</td>\n",
       "      <td>agosto</td>\n",
       "      <td>Pesquera</td>\n",
       "      <td>NaN</td>\n",
       "      <td>166</td>\n",
       "      <td>1</td>\n",
       "    </tr>\n",
       "  </tbody>\n",
       "</table>\n",
       "</div>"
      ],
      "text/plain": [
       "   anio     mes          sector  Produccion  empleados  establecimientos\n",
       "0  2001   abril  Confeccionista         NaN        337                 6\n",
       "1  2001   abril     Electronica         NaN       2249                20\n",
       "2  2001   abril           Otros         NaN        103                 4\n",
       "3  2001   abril        Pesquera         NaN        273                 1\n",
       "4  2001   abril        Plastica         NaN        289                 8\n",
       "5  2001   abril          Textil         NaN        283                 8\n",
       "6  2001  agosto  Confeccionista         NaN        351                 6\n",
       "7  2001  agosto     Electronica         NaN       2637                20\n",
       "8  2001  agosto           Otros         NaN        113                 4\n",
       "9  2001  agosto        Pesquera         NaN        166                 1"
      ]
     },
     "metadata": {},
     "output_type": "display_data"
    },
    {
     "name": "stdout",
     "output_type": "stream",
     "text": [
      "\n",
      "Dimensiones: (1746, 6)\n",
      "\n",
      "Nulos por columna:\n",
      " anio                  0\n",
      "mes                   0\n",
      "sector                0\n",
      "Produccion          865\n",
      "empleados             0\n",
      "establecimientos      0\n",
      "dtype: int64\n"
     ]
    }
   ],
   "source": [
    "print(\"Dataset unificado:\")\n",
    "display(df_unificado.head(10))\n",
    "print(\"\\nDimensiones:\", df_unificado.shape)\n",
    "print(\"\\nNulos por columna:\\n\", df_unificado.isna().sum())\n"
   ]
  },
  {
   "cell_type": "markdown",
   "id": "c26677f9",
   "metadata": {},
   "source": [
    "### 6.1 Ordenamiento cronológico del dataset unificado\n",
    "\n",
    "Después de realizar el merge de los tres datasets, la columna `mes` queda en orden alfabético, ya que pandas la interpreta como texto (`object`) y no reconoce el orden natural del calendario.  \n",
    "\n",
    "Para corregir esto, convierto `mes` a una categoría ordenada cronológicamente, ordeno el DataFrame por `anio`, `mes` y `sector`, y finalmente devuelvo `mes` a texto plano si es necesario."
   ]
  },
  {
   "cell_type": "code",
   "execution_count": 65,
   "id": "9254e381",
   "metadata": {},
   "outputs": [],
   "source": [
    "# Definimos el orden cronológico real de los meses\n",
    "orden_meses = [\n",
    "    'enero', 'febrero', 'marzo', 'abril', 'mayo', 'junio',\n",
    "    'julio', 'agosto', 'septiembre', 'octubre', 'noviembre', 'diciembre'\n",
    "]\n",
    "\n",
    "# Convertimos 'mes' a categoría ordenada\n",
    "df_unificado['mes'] = pd.Categorical(df_unificado['mes'], categories=orden_meses, ordered=True)\n",
    "\n",
    "# Ordenamos cronológicamente\n",
    "df_unificado = df_unificado.sort_values(by=['anio', 'mes', 'sector']).reset_index(drop=True)\n",
    "\n",
    "# Devolvemos 'mes' a tipo string\n",
    "df_unificado['mes'] = df_unificado['mes'].astype(str)"
   ]
  },
  {
   "cell_type": "code",
   "execution_count": 66,
   "id": "ab069239",
   "metadata": {},
   "outputs": [
    {
     "name": "stdout",
     "output_type": "stream",
     "text": [
      "Dataset unificado:\n"
     ]
    },
    {
     "data": {
      "text/html": [
       "<div>\n",
       "<style scoped>\n",
       "    .dataframe tbody tr th:only-of-type {\n",
       "        vertical-align: middle;\n",
       "    }\n",
       "\n",
       "    .dataframe tbody tr th {\n",
       "        vertical-align: top;\n",
       "    }\n",
       "\n",
       "    .dataframe thead th {\n",
       "        text-align: right;\n",
       "    }\n",
       "</style>\n",
       "<table border=\"1\" class=\"dataframe\">\n",
       "  <thead>\n",
       "    <tr style=\"text-align: right;\">\n",
       "      <th></th>\n",
       "      <th>anio</th>\n",
       "      <th>mes</th>\n",
       "      <th>sector</th>\n",
       "      <th>Produccion</th>\n",
       "      <th>empleados</th>\n",
       "      <th>establecimientos</th>\n",
       "    </tr>\n",
       "  </thead>\n",
       "  <tbody>\n",
       "    <tr>\n",
       "      <th>0</th>\n",
       "      <td>2001</td>\n",
       "      <td>enero</td>\n",
       "      <td>Confeccionista</td>\n",
       "      <td>NaN</td>\n",
       "      <td>326</td>\n",
       "      <td>6</td>\n",
       "    </tr>\n",
       "    <tr>\n",
       "      <th>1</th>\n",
       "      <td>2001</td>\n",
       "      <td>enero</td>\n",
       "      <td>Electronica</td>\n",
       "      <td>NaN</td>\n",
       "      <td>2652</td>\n",
       "      <td>22</td>\n",
       "    </tr>\n",
       "    <tr>\n",
       "      <th>2</th>\n",
       "      <td>2001</td>\n",
       "      <td>enero</td>\n",
       "      <td>Otros</td>\n",
       "      <td>NaN</td>\n",
       "      <td>90</td>\n",
       "      <td>4</td>\n",
       "    </tr>\n",
       "    <tr>\n",
       "      <th>3</th>\n",
       "      <td>2001</td>\n",
       "      <td>enero</td>\n",
       "      <td>Pesquera</td>\n",
       "      <td>NaN</td>\n",
       "      <td>353</td>\n",
       "      <td>2</td>\n",
       "    </tr>\n",
       "    <tr>\n",
       "      <th>4</th>\n",
       "      <td>2001</td>\n",
       "      <td>enero</td>\n",
       "      <td>Plastica</td>\n",
       "      <td>NaN</td>\n",
       "      <td>284</td>\n",
       "      <td>8</td>\n",
       "    </tr>\n",
       "    <tr>\n",
       "      <th>5</th>\n",
       "      <td>2001</td>\n",
       "      <td>enero</td>\n",
       "      <td>Textil</td>\n",
       "      <td>NaN</td>\n",
       "      <td>274</td>\n",
       "      <td>8</td>\n",
       "    </tr>\n",
       "    <tr>\n",
       "      <th>6</th>\n",
       "      <td>2001</td>\n",
       "      <td>febrero</td>\n",
       "      <td>Confeccionista</td>\n",
       "      <td>NaN</td>\n",
       "      <td>323</td>\n",
       "      <td>6</td>\n",
       "    </tr>\n",
       "    <tr>\n",
       "      <th>7</th>\n",
       "      <td>2001</td>\n",
       "      <td>febrero</td>\n",
       "      <td>Electronica</td>\n",
       "      <td>NaN</td>\n",
       "      <td>2624</td>\n",
       "      <td>21</td>\n",
       "    </tr>\n",
       "    <tr>\n",
       "      <th>8</th>\n",
       "      <td>2001</td>\n",
       "      <td>febrero</td>\n",
       "      <td>Otros</td>\n",
       "      <td>NaN</td>\n",
       "      <td>92</td>\n",
       "      <td>4</td>\n",
       "    </tr>\n",
       "    <tr>\n",
       "      <th>9</th>\n",
       "      <td>2001</td>\n",
       "      <td>febrero</td>\n",
       "      <td>Pesquera</td>\n",
       "      <td>NaN</td>\n",
       "      <td>278</td>\n",
       "      <td>1</td>\n",
       "    </tr>\n",
       "  </tbody>\n",
       "</table>\n",
       "</div>"
      ],
      "text/plain": [
       "   anio      mes          sector  Produccion  empleados  establecimientos\n",
       "0  2001    enero  Confeccionista         NaN        326                 6\n",
       "1  2001    enero     Electronica         NaN       2652                22\n",
       "2  2001    enero           Otros         NaN         90                 4\n",
       "3  2001    enero        Pesquera         NaN        353                 2\n",
       "4  2001    enero        Plastica         NaN        284                 8\n",
       "5  2001    enero          Textil         NaN        274                 8\n",
       "6  2001  febrero  Confeccionista         NaN        323                 6\n",
       "7  2001  febrero     Electronica         NaN       2624                21\n",
       "8  2001  febrero           Otros         NaN         92                 4\n",
       "9  2001  febrero        Pesquera         NaN        278                 1"
      ]
     },
     "metadata": {},
     "output_type": "display_data"
    }
   ],
   "source": [
    "print(\"Dataset unificado:\")\n",
    "display(df_unificado.head(10))"
   ]
  },
  {
   "cell_type": "markdown",
   "id": "f84267e9",
   "metadata": {},
   "source": [
    "### 6.2 Separación de registros para predicción (`df_test`)\n",
    "\n",
    "Del dataset unificado, separo aquellos registros que no tienen valores en la columna `Produccion`.  \n",
    "Estos no serán utilizados para entrenar el modelo, ya que no disponen de la variable objetivo, pero son muy útiles como casos reales a predecir una vez que el modelo esté entrenado.  \n",
    "Se almacenan en el DataFrame `df_test`.\n"
   ]
  },
  {
   "cell_type": "code",
   "execution_count": 67,
   "id": "60b13f7d",
   "metadata": {},
   "outputs": [
    {
     "name": "stdout",
     "output_type": "stream",
     "text": [
      "Registros reservados para predicción (df_test): 865\n"
     ]
    },
    {
     "data": {
      "text/html": [
       "<div>\n",
       "<style scoped>\n",
       "    .dataframe tbody tr th:only-of-type {\n",
       "        vertical-align: middle;\n",
       "    }\n",
       "\n",
       "    .dataframe tbody tr th {\n",
       "        vertical-align: top;\n",
       "    }\n",
       "\n",
       "    .dataframe thead th {\n",
       "        text-align: right;\n",
       "    }\n",
       "</style>\n",
       "<table border=\"1\" class=\"dataframe\">\n",
       "  <thead>\n",
       "    <tr style=\"text-align: right;\">\n",
       "      <th></th>\n",
       "      <th>anio</th>\n",
       "      <th>mes</th>\n",
       "      <th>sector</th>\n",
       "      <th>Produccion</th>\n",
       "      <th>empleados</th>\n",
       "      <th>establecimientos</th>\n",
       "    </tr>\n",
       "  </thead>\n",
       "  <tbody>\n",
       "    <tr>\n",
       "      <th>0</th>\n",
       "      <td>2001</td>\n",
       "      <td>enero</td>\n",
       "      <td>Confeccionista</td>\n",
       "      <td>NaN</td>\n",
       "      <td>326</td>\n",
       "      <td>6</td>\n",
       "    </tr>\n",
       "    <tr>\n",
       "      <th>1</th>\n",
       "      <td>2001</td>\n",
       "      <td>enero</td>\n",
       "      <td>Electronica</td>\n",
       "      <td>NaN</td>\n",
       "      <td>2652</td>\n",
       "      <td>22</td>\n",
       "    </tr>\n",
       "    <tr>\n",
       "      <th>2</th>\n",
       "      <td>2001</td>\n",
       "      <td>enero</td>\n",
       "      <td>Otros</td>\n",
       "      <td>NaN</td>\n",
       "      <td>90</td>\n",
       "      <td>4</td>\n",
       "    </tr>\n",
       "    <tr>\n",
       "      <th>3</th>\n",
       "      <td>2001</td>\n",
       "      <td>enero</td>\n",
       "      <td>Pesquera</td>\n",
       "      <td>NaN</td>\n",
       "      <td>353</td>\n",
       "      <td>2</td>\n",
       "    </tr>\n",
       "    <tr>\n",
       "      <th>4</th>\n",
       "      <td>2001</td>\n",
       "      <td>enero</td>\n",
       "      <td>Plastica</td>\n",
       "      <td>NaN</td>\n",
       "      <td>284</td>\n",
       "      <td>8</td>\n",
       "    </tr>\n",
       "  </tbody>\n",
       "</table>\n",
       "</div>"
      ],
      "text/plain": [
       "   anio    mes          sector  Produccion  empleados  establecimientos\n",
       "0  2001  enero  Confeccionista         NaN        326                 6\n",
       "1  2001  enero     Electronica         NaN       2652                22\n",
       "2  2001  enero           Otros         NaN         90                 4\n",
       "3  2001  enero        Pesquera         NaN        353                 2\n",
       "4  2001  enero        Plastica         NaN        284                 8"
      ]
     },
     "metadata": {},
     "output_type": "display_data"
    }
   ],
   "source": [
    "# Registros sin valores en Produccion → casos reservados para predicción\n",
    "df_test = df_unificado[df_unificado['Produccion'].isna()].copy()\n",
    "\n",
    "# Verifico cantidad de registros y muestro algunos\n",
    "print(\"Registros reservados para predicción (df_test):\", df_test.shape[0])\n",
    "display(df_test.head())"
   ]
  },
  {
   "cell_type": "code",
   "execution_count": 68,
   "id": "f7d2b4c5",
   "metadata": {},
   "outputs": [
    {
     "name": "stdout",
     "output_type": "stream",
     "text": [
      "<class 'pandas.core.frame.DataFrame'>\n",
      "RangeIndex: 1746 entries, 0 to 1745\n",
      "Data columns (total 6 columns):\n",
      " #   Column            Non-Null Count  Dtype  \n",
      "---  ------            --------------  -----  \n",
      " 0   anio              1746 non-null   int32  \n",
      " 1   mes               1746 non-null   object \n",
      " 2   sector            1746 non-null   object \n",
      " 3   Produccion        881 non-null    float64\n",
      " 4   empleados         1746 non-null   int32  \n",
      " 5   establecimientos  1746 non-null   int32  \n",
      "dtypes: float64(1), int32(3), object(2)\n",
      "memory usage: 61.5+ KB\n"
     ]
    }
   ],
   "source": [
    "df_unificado.info()"
   ]
  },
  {
   "cell_type": "markdown",
   "id": "d9d92065",
   "metadata": {},
   "source": [
    "### 6.3 Creación del dataset final para modelado (`df_final`)\n",
    "\n",
    "Mantengo `df_unificado` como respaldo completo del merge, incluyendo registros sin producción.  \n",
    "A partir de este, creo un nuevo DataFrame `df_final`, que contiene únicamente los registros con valores válidos de producción.  \n",
    "Este dataset será el utilizado para entrenar y evaluar los modelos de aprendizaje supervisado."
   ]
  },
  {
   "cell_type": "code",
   "execution_count": 71,
   "id": "b6de60f1",
   "metadata": {},
   "outputs": [
    {
     "name": "stdout",
     "output_type": "stream",
     "text": [
      "Dataset final para modelado (df_final):\n"
     ]
    },
    {
     "data": {
      "text/html": [
       "<div>\n",
       "<style scoped>\n",
       "    .dataframe tbody tr th:only-of-type {\n",
       "        vertical-align: middle;\n",
       "    }\n",
       "\n",
       "    .dataframe tbody tr th {\n",
       "        vertical-align: top;\n",
       "    }\n",
       "\n",
       "    .dataframe thead th {\n",
       "        text-align: right;\n",
       "    }\n",
       "</style>\n",
       "<table border=\"1\" class=\"dataframe\">\n",
       "  <thead>\n",
       "    <tr style=\"text-align: right;\">\n",
       "      <th></th>\n",
       "      <th>anio</th>\n",
       "      <th>mes</th>\n",
       "      <th>sector</th>\n",
       "      <th>Produccion</th>\n",
       "      <th>empleados</th>\n",
       "      <th>establecimientos</th>\n",
       "    </tr>\n",
       "  </thead>\n",
       "  <tbody>\n",
       "    <tr>\n",
       "      <th>864</th>\n",
       "      <td>2013</td>\n",
       "      <td>enero</td>\n",
       "      <td>Confeccionista</td>\n",
       "      <td>219953</td>\n",
       "      <td>452</td>\n",
       "      <td>6</td>\n",
       "    </tr>\n",
       "    <tr>\n",
       "      <th>865</th>\n",
       "      <td>2013</td>\n",
       "      <td>enero</td>\n",
       "      <td>Electronica</td>\n",
       "      <td>1260521</td>\n",
       "      <td>11001</td>\n",
       "      <td>27</td>\n",
       "    </tr>\n",
       "    <tr>\n",
       "      <th>866</th>\n",
       "      <td>2013</td>\n",
       "      <td>enero</td>\n",
       "      <td>Otros</td>\n",
       "      <td>2347676</td>\n",
       "      <td>515</td>\n",
       "      <td>3</td>\n",
       "    </tr>\n",
       "    <tr>\n",
       "      <th>867</th>\n",
       "      <td>2013</td>\n",
       "      <td>enero</td>\n",
       "      <td>Pesquera</td>\n",
       "      <td>2056519</td>\n",
       "      <td>415</td>\n",
       "      <td>3</td>\n",
       "    </tr>\n",
       "    <tr>\n",
       "      <th>868</th>\n",
       "      <td>2013</td>\n",
       "      <td>enero</td>\n",
       "      <td>Plastica</td>\n",
       "      <td>7415631</td>\n",
       "      <td>795</td>\n",
       "      <td>7</td>\n",
       "    </tr>\n",
       "  </tbody>\n",
       "</table>\n",
       "</div>"
      ],
      "text/plain": [
       "     anio    mes          sector  Produccion  empleados  establecimientos\n",
       "864  2013  enero  Confeccionista      219953        452                 6\n",
       "865  2013  enero     Electronica     1260521      11001                27\n",
       "866  2013  enero           Otros     2347676        515                 3\n",
       "867  2013  enero        Pesquera     2056519        415                 3\n",
       "868  2013  enero        Plastica     7415631        795                 7"
      ]
     },
     "metadata": {},
     "output_type": "display_data"
    },
    {
     "name": "stdout",
     "output_type": "stream",
     "text": [
      "\n",
      "Dimensiones: (881, 6)\n",
      "\n",
      "Nulos por columna:\n",
      " anio                0\n",
      "mes                 0\n",
      "sector              0\n",
      "Produccion          0\n",
      "empleados           0\n",
      "establecimientos    0\n",
      "dtype: int64\n"
     ]
    }
   ],
   "source": [
    "# Creo df_final con solo los registros completos\n",
    "df_final = df_unificado[df_unificado['Produccion'].notna()].copy()\n",
    "\n",
    "# Convierto Produccion nuevamente a entero\n",
    "df_final['Produccion'] = df_final['Produccion'].astype(int)\n",
    "\n",
    "# Verifico estructura final\n",
    "print(\"Dataset final para modelado (df_final):\")\n",
    "display(df_final.head())\n",
    "print(\"\\nDimensiones:\", df_final.shape)\n",
    "print(\"\\nNulos por columna:\\n\", df_final.isna().sum())"
   ]
  },
  {
   "cell_type": "code",
   "execution_count": 72,
   "id": "ab347f79",
   "metadata": {},
   "outputs": [],
   "source": [
    "# Reinicio el índice de df_final para que comience desde 0\n",
    "df_final.reset_index(drop=True, inplace=True)"
   ]
  },
  {
   "cell_type": "code",
   "execution_count": 73,
   "id": "c45b5ad3",
   "metadata": {},
   "outputs": [
    {
     "data": {
      "text/html": [
       "<div>\n",
       "<style scoped>\n",
       "    .dataframe tbody tr th:only-of-type {\n",
       "        vertical-align: middle;\n",
       "    }\n",
       "\n",
       "    .dataframe tbody tr th {\n",
       "        vertical-align: top;\n",
       "    }\n",
       "\n",
       "    .dataframe thead th {\n",
       "        text-align: right;\n",
       "    }\n",
       "</style>\n",
       "<table border=\"1\" class=\"dataframe\">\n",
       "  <thead>\n",
       "    <tr style=\"text-align: right;\">\n",
       "      <th></th>\n",
       "      <th>anio</th>\n",
       "      <th>mes</th>\n",
       "      <th>sector</th>\n",
       "      <th>Produccion</th>\n",
       "      <th>empleados</th>\n",
       "      <th>establecimientos</th>\n",
       "    </tr>\n",
       "  </thead>\n",
       "  <tbody>\n",
       "    <tr>\n",
       "      <th>0</th>\n",
       "      <td>2013</td>\n",
       "      <td>enero</td>\n",
       "      <td>Confeccionista</td>\n",
       "      <td>219953</td>\n",
       "      <td>452</td>\n",
       "      <td>6</td>\n",
       "    </tr>\n",
       "    <tr>\n",
       "      <th>1</th>\n",
       "      <td>2013</td>\n",
       "      <td>enero</td>\n",
       "      <td>Electronica</td>\n",
       "      <td>1260521</td>\n",
       "      <td>11001</td>\n",
       "      <td>27</td>\n",
       "    </tr>\n",
       "    <tr>\n",
       "      <th>2</th>\n",
       "      <td>2013</td>\n",
       "      <td>enero</td>\n",
       "      <td>Otros</td>\n",
       "      <td>2347676</td>\n",
       "      <td>515</td>\n",
       "      <td>3</td>\n",
       "    </tr>\n",
       "    <tr>\n",
       "      <th>3</th>\n",
       "      <td>2013</td>\n",
       "      <td>enero</td>\n",
       "      <td>Pesquera</td>\n",
       "      <td>2056519</td>\n",
       "      <td>415</td>\n",
       "      <td>3</td>\n",
       "    </tr>\n",
       "    <tr>\n",
       "      <th>4</th>\n",
       "      <td>2013</td>\n",
       "      <td>enero</td>\n",
       "      <td>Plastica</td>\n",
       "      <td>7415631</td>\n",
       "      <td>795</td>\n",
       "      <td>7</td>\n",
       "    </tr>\n",
       "    <tr>\n",
       "      <th>...</th>\n",
       "      <td>...</td>\n",
       "      <td>...</td>\n",
       "      <td>...</td>\n",
       "      <td>...</td>\n",
       "      <td>...</td>\n",
       "      <td>...</td>\n",
       "    </tr>\n",
       "    <tr>\n",
       "      <th>876</th>\n",
       "      <td>2025</td>\n",
       "      <td>marzo</td>\n",
       "      <td>Confeccionista</td>\n",
       "      <td>216133</td>\n",
       "      <td>238</td>\n",
       "      <td>4</td>\n",
       "    </tr>\n",
       "    <tr>\n",
       "      <th>877</th>\n",
       "      <td>2025</td>\n",
       "      <td>marzo</td>\n",
       "      <td>Electronica</td>\n",
       "      <td>887363</td>\n",
       "      <td>6731</td>\n",
       "      <td>19</td>\n",
       "    </tr>\n",
       "    <tr>\n",
       "      <th>878</th>\n",
       "      <td>2025</td>\n",
       "      <td>marzo</td>\n",
       "      <td>Otros</td>\n",
       "      <td>8844</td>\n",
       "      <td>435</td>\n",
       "      <td>1</td>\n",
       "    </tr>\n",
       "    <tr>\n",
       "      <th>879</th>\n",
       "      <td>2025</td>\n",
       "      <td>marzo</td>\n",
       "      <td>Pesquera</td>\n",
       "      <td>513161</td>\n",
       "      <td>219</td>\n",
       "      <td>2</td>\n",
       "    </tr>\n",
       "    <tr>\n",
       "      <th>880</th>\n",
       "      <td>2025</td>\n",
       "      <td>marzo</td>\n",
       "      <td>Textil</td>\n",
       "      <td>863566</td>\n",
       "      <td>326</td>\n",
       "      <td>6</td>\n",
       "    </tr>\n",
       "  </tbody>\n",
       "</table>\n",
       "<p>881 rows × 6 columns</p>\n",
       "</div>"
      ],
      "text/plain": [
       "     anio    mes          sector  Produccion  empleados  establecimientos\n",
       "0    2013  enero  Confeccionista      219953        452                 6\n",
       "1    2013  enero     Electronica     1260521      11001                27\n",
       "2    2013  enero           Otros     2347676        515                 3\n",
       "3    2013  enero        Pesquera     2056519        415                 3\n",
       "4    2013  enero        Plastica     7415631        795                 7\n",
       "..    ...    ...             ...         ...        ...               ...\n",
       "876  2025  marzo  Confeccionista      216133        238                 4\n",
       "877  2025  marzo     Electronica      887363       6731                19\n",
       "878  2025  marzo           Otros        8844        435                 1\n",
       "879  2025  marzo        Pesquera      513161        219                 2\n",
       "880  2025  marzo          Textil      863566        326                 6\n",
       "\n",
       "[881 rows x 6 columns]"
      ]
     },
     "execution_count": 73,
     "metadata": {},
     "output_type": "execute_result"
    }
   ],
   "source": [
    "df_final"
   ]
  },
  {
   "cell_type": "markdown",
   "id": "6247a7b7",
   "metadata": {},
   "source": [
    "### 6.4 Exportación de datasets procesados a CSV\n",
    "\n",
    "Una vez finalizada la unificación, limpieza y separación de los datos, procedo a exportar los distintos DataFrames en archivos CSV.\n",
    "\n",
    "- Los archivos con sufijo `_v2` corresponden a versiones actualizadas de datasets ya procesados.\n",
    "- `dataset_final.csv` contiene los registros listos para el modelado supervisado.\n",
    "- `dataset_test_real.csv` contiene los registros sin datos de producción, destinados a pruebas de predicción.\n",
    "\n",
    "Todos los archivos se guardan en la carpeta `../data/processed/`.\n"
   ]
  },
  {
   "cell_type": "code",
   "execution_count": 75,
   "id": "a6a748b3",
   "metadata": {},
   "outputs": [],
   "source": [
    "# Exportación de datasets procesados\n",
    "df_produccion_total.to_csv('../data/processed/produccion_total_por_sector_v2.csv', index=False)\n",
    "df_empleados_limpio.to_csv('../data/processed/empleados_total_por_sector_v2.csv', index=False)\n",
    "df_estab_limpio.to_csv('../data/processed/establecimientos_total_por_sector_v2.csv', index=False)\n",
    "df_unificado.to_csv('../data/processed/dataset_unificado_industria_v2.csv', index=False)\n",
    "\n",
    "# Nuevos datasets\n",
    "df_test.to_csv('../data/processed/dataset_test_real.csv', index=False)\n",
    "df_final.to_csv('../data/processed/dataset_final.csv', index=False)"
   ]
  },
  {
   "cell_type": "markdown",
   "id": "2280589c",
   "metadata": {},
   "source": [
    "Verifico la correcta exportacion"
   ]
  },
  {
   "cell_type": "code",
   "execution_count": 76,
   "id": "6887e366",
   "metadata": {},
   "outputs": [
    {
     "name": "stdout",
     "output_type": "stream",
     "text": [
      "['.gitkeep', 'dataset_final.csv', 'dataset_test_real.csv', 'dataset_unificado_industria.csv', 'dataset_unificado_industria_v2.csv', 'empleados_total_por_sector.csv', 'empleados_total_por_sector_v2.csv', 'establecimientos_total_por_sector.csv', 'establecimientos_total_por_sector_v2.csv', 'produccion_total_por_sector.csv', 'produccion_total_por_sector_v2.csv']\n"
     ]
    }
   ],
   "source": [
    "import os\n",
    "\n",
    "print(os.listdir('../data/processed/'))\n"
   ]
  }
 ],
 "metadata": {
  "kernelspec": {
   "display_name": "base",
   "language": "python",
   "name": "python3"
  },
  "language_info": {
   "codemirror_mode": {
    "name": "ipython",
    "version": 3
   },
   "file_extension": ".py",
   "mimetype": "text/x-python",
   "name": "python",
   "nbconvert_exporter": "python",
   "pygments_lexer": "ipython3",
   "version": "3.12.7"
  }
 },
 "nbformat": 4,
 "nbformat_minor": 5
}
